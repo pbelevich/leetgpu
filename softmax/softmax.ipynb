{
 "cells": [
  {
   "cell_type": "code",
   "execution_count": 1,
   "metadata": {},
   "outputs": [],
   "source": [
    "import torch\n",
    "import torch.utils.cpp_extension\n",
    "from pathlib import Path"
   ]
  },
  {
   "cell_type": "code",
   "execution_count": 2,
   "metadata": {},
   "outputs": [],
   "source": [
    "matrix = torch.randn(4, 8, 32, 32768, device='cuda', dtype=torch.float32)\n",
    "small = torch.tensor([[1, 2, 3]], device='cuda', dtype=torch.float32)"
   ]
  },
  {
   "cell_type": "code",
   "execution_count": 3,
   "metadata": {},
   "outputs": [
    {
     "name": "stdout",
     "output_type": "stream",
     "text": [
      "128 μs ± 94.5 ns per loop (mean ± std. dev. of 7 runs, 10,000 loops each)\n"
     ]
    }
   ],
   "source": [
    "%%timeit\n",
    "torch.nn.functional.softmax(matrix, dim=-1)\n",
    "torch.cuda.synchronize()"
   ]
  },
  {
   "cell_type": "code",
   "execution_count": 4,
   "metadata": {},
   "outputs": [],
   "source": [
    "def naive_pytorch_softmax(x, dim=None):\n",
    "    m = torch.max(x, dim=dim, keepdim=True)[0]\n",
    "    e = torch.exp(x - m)\n",
    "    s = torch.sum(e, dim=dim, keepdim=True)\n",
    "    return e / s"
   ]
  },
  {
   "cell_type": "code",
   "execution_count": 5,
   "metadata": {},
   "outputs": [],
   "source": [
    "torch.testing.assert_close(naive_pytorch_softmax(matrix, dim=-1), torch.nn.functional.softmax(matrix, dim=-1))"
   ]
  },
  {
   "cell_type": "code",
   "execution_count": 6,
   "metadata": {},
   "outputs": [
    {
     "name": "stdout",
     "output_type": "stream",
     "text": [
      "370 μs ± 82 ns per loop (mean ± std. dev. of 7 runs, 1,000 loops each)\n"
     ]
    }
   ],
   "source": [
    "%%timeit\n",
    "naive_pytorch_softmax(matrix, dim=-1)\n",
    "torch.cuda.synchronize()"
   ]
  },
  {
   "cell_type": "code",
   "execution_count": 7,
   "metadata": {},
   "outputs": [],
   "source": [
    "def online_pytorch_softmax(x):\n",
    "    x_flatten = x.reshape(-1, x.size(-1))\n",
    "    rows, cols = x_flatten.shape\n",
    "    m = torch.full((rows, 1), float('-inf'), device=x.device, dtype=x.dtype)\n",
    "    s = torch.zeros((rows, 1), device=x.device, dtype=x.dtype)\n",
    "    for c in range(cols):\n",
    "        curr = x_flatten[:, c].unsqueeze(-1)\n",
    "        prev_m = m\n",
    "        m = torch.maximum(prev_m, curr)\n",
    "        s = s * torch.exp(prev_m - m) + torch.exp(curr - m)\n",
    "    y = torch.exp(x_flatten - m) / s\n",
    "    return y.view_as(x)"
   ]
  },
  {
   "cell_type": "code",
   "execution_count": 8,
   "metadata": {},
   "outputs": [],
   "source": [
    "torch.testing.assert_close(online_pytorch_softmax(matrix), torch.nn.functional.softmax(matrix, dim=-1))"
   ]
  },
  {
   "cell_type": "code",
   "execution_count": 9,
   "metadata": {},
   "outputs": [
    {
     "name": "stdout",
     "output_type": "stream",
     "text": [
      "1.58 s ± 440 μs per loop (mean ± std. dev. of 7 runs, 1 loop each)\n"
     ]
    }
   ],
   "source": [
    "%%timeit\n",
    "online_pytorch_softmax(matrix)\n",
    "torch.cuda.synchronize()"
   ]
  },
  {
   "cell_type": "code",
   "execution_count": 10,
   "metadata": {},
   "outputs": [
    {
     "name": "stderr",
     "output_type": "stream",
     "text": [
      "Using /home/belevich/.cache/torch_extensions/py312_cu126 as PyTorch extensions root...\n",
      "Detected CUDA files, patching ldflags\n",
      "Emitting ninja build file /home/belevich/.cache/torch_extensions/py312_cu126/my1/build.ninja...\n",
      "/fsxl/belevich/miniconda3/lib/python3.12/site-packages/torch/utils/cpp_extension.py:2356: UserWarning: TORCH_CUDA_ARCH_LIST is not set, all archs for visible cards are included for compilation. \n",
      "If this is not desired, please set os.environ['TORCH_CUDA_ARCH_LIST'].\n",
      "  warnings.warn(\n",
      "Building extension module my1...\n",
      "Allowing ninja to set a default number of workers... (overridable by setting the environment variable MAX_JOBS=N)\n"
     ]
    },
    {
     "name": "stdout",
     "output_type": "stream",
     "text": [
      "ninja: no work to do.\n"
     ]
    },
    {
     "name": "stderr",
     "output_type": "stream",
     "text": [
      "Loading extension module my1...\n"
     ]
    }
   ],
   "source": [
    "cuda_src1 = Path('softmax1.cu').read_text()\n",
    "cpp_src1 = \"\"\"\n",
    "torch::Tensor softmax1(const torch::Tensor& x);\n",
    "\"\"\"\n",
    "my1 = torch.utils.cpp_extension.load_inline(\n",
    "    \"my1\", cpp_src1, cuda_src1,\n",
    "    functions=['softmax1'], extra_cuda_cflags=['--ptxas-options=-v'], verbose=True,\n",
    ")"
   ]
  },
  {
   "cell_type": "code",
   "execution_count": 11,
   "metadata": {},
   "outputs": [],
   "source": [
    "torch.testing.assert_close(my1.softmax1(matrix), torch.nn.functional.softmax(matrix, dim=-1))"
   ]
  },
  {
   "cell_type": "code",
   "execution_count": 12,
   "metadata": {},
   "outputs": [
    {
     "name": "stdout",
     "output_type": "stream",
     "text": [
      "83.6 ms ± 81.8 μs per loop (mean ± std. dev. of 7 runs, 10 loops each)\n"
     ]
    }
   ],
   "source": [
    "%%timeit\n",
    "my1.softmax1(matrix)\n",
    "torch.cuda.synchronize()"
   ]
  },
  {
   "cell_type": "code",
   "execution_count": 13,
   "metadata": {},
   "outputs": [
    {
     "name": "stderr",
     "output_type": "stream",
     "text": [
      "Using /home/belevich/.cache/torch_extensions/py312_cu126 as PyTorch extensions root...\n",
      "Detected CUDA files, patching ldflags\n",
      "Emitting ninja build file /home/belevich/.cache/torch_extensions/py312_cu126/my2/build.ninja...\n",
      "/fsxl/belevich/miniconda3/lib/python3.12/site-packages/torch/utils/cpp_extension.py:2356: UserWarning: TORCH_CUDA_ARCH_LIST is not set, all archs for visible cards are included for compilation. \n",
      "If this is not desired, please set os.environ['TORCH_CUDA_ARCH_LIST'].\n",
      "  warnings.warn(\n",
      "Building extension module my2...\n",
      "Allowing ninja to set a default number of workers... (overridable by setting the environment variable MAX_JOBS=N)\n"
     ]
    },
    {
     "name": "stdout",
     "output_type": "stream",
     "text": [
      "ninja: no work to do.\n"
     ]
    },
    {
     "name": "stderr",
     "output_type": "stream",
     "text": [
      "Loading extension module my2...\n"
     ]
    }
   ],
   "source": [
    "cuda_src2 = Path('softmax2.cu').read_text()\n",
    "cpp_src2 = \"\"\"\n",
    "torch::Tensor softmax2(const torch::Tensor& x);\n",
    "\"\"\"\n",
    "my2 = torch.utils.cpp_extension.load_inline(\n",
    "    \"my2\", cpp_src2, cuda_src2,\n",
    "    functions=['softmax2'], extra_cuda_cflags=['--ptxas-options=-v'], verbose=True,\n",
    ")"
   ]
  },
  {
   "cell_type": "code",
   "execution_count": 14,
   "metadata": {},
   "outputs": [],
   "source": [
    "torch.testing.assert_close(my2.softmax2(matrix), torch.nn.functional.softmax(matrix, dim=-1))"
   ]
  },
  {
   "cell_type": "code",
   "execution_count": 15,
   "metadata": {},
   "outputs": [
    {
     "name": "stdout",
     "output_type": "stream",
     "text": [
      "137 μs ± 24.2 ns per loop (mean ± std. dev. of 7 runs, 10,000 loops each)\n"
     ]
    }
   ],
   "source": [
    "%%timeit\n",
    "my2.softmax2(matrix)\n",
    "torch.cuda.synchronize()"
   ]
  },
  {
   "cell_type": "code",
   "execution_count": 16,
   "metadata": {},
   "outputs": [
    {
     "name": "stderr",
     "output_type": "stream",
     "text": [
      "Using /home/belevich/.cache/torch_extensions/py312_cu126 as PyTorch extensions root...\n",
      "Detected CUDA files, patching ldflags\n",
      "Emitting ninja build file /home/belevich/.cache/torch_extensions/py312_cu126/my3/build.ninja...\n",
      "/fsxl/belevich/miniconda3/lib/python3.12/site-packages/torch/utils/cpp_extension.py:2356: UserWarning: TORCH_CUDA_ARCH_LIST is not set, all archs for visible cards are included for compilation. \n",
      "If this is not desired, please set os.environ['TORCH_CUDA_ARCH_LIST'].\n",
      "  warnings.warn(\n",
      "Building extension module my3...\n",
      "Allowing ninja to set a default number of workers... (overridable by setting the environment variable MAX_JOBS=N)\n"
     ]
    },
    {
     "name": "stdout",
     "output_type": "stream",
     "text": [
      "ninja: no work to do.\n"
     ]
    },
    {
     "name": "stderr",
     "output_type": "stream",
     "text": [
      "Loading extension module my3...\n"
     ]
    }
   ],
   "source": [
    "cuda_src3 = Path('softmax3.cu').read_text()\n",
    "cpp_src3 = \"\"\"\n",
    "torch::Tensor softmax3(const torch::Tensor& x);\n",
    "\"\"\"\n",
    "my3 = torch.utils.cpp_extension.load_inline(\n",
    "    \"my3\", cpp_src3, cuda_src3,\n",
    "    functions=['softmax3'], extra_cuda_cflags=['--ptxas-options=-v'], verbose=True,\n",
    ")"
   ]
  },
  {
   "cell_type": "code",
   "execution_count": 17,
   "metadata": {},
   "outputs": [],
   "source": [
    "torch.testing.assert_close(my3.softmax3(matrix), torch.nn.functional.softmax(matrix, dim=-1))"
   ]
  },
  {
   "cell_type": "code",
   "execution_count": 18,
   "metadata": {},
   "outputs": [
    {
     "name": "stdout",
     "output_type": "stream",
     "text": [
      "138 μs ± 26.5 ns per loop (mean ± std. dev. of 7 runs, 10,000 loops each)\n"
     ]
    }
   ],
   "source": [
    "%%timeit\n",
    "my3.softmax3(matrix)\n",
    "torch.cuda.synchronize()"
   ]
  },
  {
   "cell_type": "code",
   "execution_count": 19,
   "metadata": {},
   "outputs": [
    {
     "name": "stderr",
     "output_type": "stream",
     "text": [
      "Using /home/belevich/.cache/torch_extensions/py312_cu126 as PyTorch extensions root...\n",
      "Detected CUDA files, patching ldflags\n",
      "Emitting ninja build file /home/belevich/.cache/torch_extensions/py312_cu126/my2_shfl/build.ninja...\n",
      "/fsxl/belevich/miniconda3/lib/python3.12/site-packages/torch/utils/cpp_extension.py:2356: UserWarning: TORCH_CUDA_ARCH_LIST is not set, all archs for visible cards are included for compilation. \n",
      "If this is not desired, please set os.environ['TORCH_CUDA_ARCH_LIST'].\n",
      "  warnings.warn(\n",
      "Building extension module my2_shfl...\n",
      "Allowing ninja to set a default number of workers... (overridable by setting the environment variable MAX_JOBS=N)\n"
     ]
    },
    {
     "name": "stdout",
     "output_type": "stream",
     "text": [
      "ninja: no work to do.\n"
     ]
    },
    {
     "name": "stderr",
     "output_type": "stream",
     "text": [
      "Loading extension module my2_shfl...\n"
     ]
    }
   ],
   "source": [
    "cuda_src2_shfl = Path('softmax2_shfl.cu').read_text()\n",
    "cpp_src2_shfl = \"\"\"\n",
    "torch::Tensor softmax2_shfl(const torch::Tensor& x);\n",
    "\"\"\"\n",
    "my2_shfl = torch.utils.cpp_extension.load_inline(\n",
    "    \"my2_shfl\", cpp_src2_shfl, cuda_src2_shfl,\n",
    "    functions=['softmax2_shfl'], extra_cuda_cflags=['--ptxas-options=-v'], verbose=True,\n",
    ")"
   ]
  },
  {
   "cell_type": "code",
   "execution_count": 20,
   "metadata": {},
   "outputs": [],
   "source": [
    "torch.testing.assert_close(my2_shfl.softmax2_shfl(matrix), torch.nn.functional.softmax(matrix, dim=-1))"
   ]
  },
  {
   "cell_type": "code",
   "execution_count": 21,
   "metadata": {},
   "outputs": [
    {
     "name": "stdout",
     "output_type": "stream",
     "text": [
      "130 μs ± 26 ns per loop (mean ± std. dev. of 7 runs, 10,000 loops each)\n"
     ]
    }
   ],
   "source": [
    "%%timeit\n",
    "my2_shfl.softmax2_shfl(matrix)\n",
    "torch.cuda.synchronize()"
   ]
  },
  {
   "cell_type": "code",
   "execution_count": 22,
   "metadata": {},
   "outputs": [
    {
     "name": "stderr",
     "output_type": "stream",
     "text": [
      "Using /home/belevich/.cache/torch_extensions/py312_cu126 as PyTorch extensions root...\n",
      "Detected CUDA files, patching ldflags\n",
      "Emitting ninja build file /home/belevich/.cache/torch_extensions/py312_cu126/my3_shfl/build.ninja...\n",
      "/fsxl/belevich/miniconda3/lib/python3.12/site-packages/torch/utils/cpp_extension.py:2356: UserWarning: TORCH_CUDA_ARCH_LIST is not set, all archs for visible cards are included for compilation. \n",
      "If this is not desired, please set os.environ['TORCH_CUDA_ARCH_LIST'].\n",
      "  warnings.warn(\n",
      "Building extension module my3_shfl...\n",
      "Allowing ninja to set a default number of workers... (overridable by setting the environment variable MAX_JOBS=N)\n"
     ]
    },
    {
     "name": "stdout",
     "output_type": "stream",
     "text": [
      "ninja: no work to do.\n"
     ]
    },
    {
     "name": "stderr",
     "output_type": "stream",
     "text": [
      "Loading extension module my3_shfl...\n"
     ]
    }
   ],
   "source": [
    "cuda_src3_shfl = Path('softmax3_shfl.cu').read_text()\n",
    "cpp_src3_shfl = \"\"\"\n",
    "torch::Tensor softmax3_shfl(const torch::Tensor& x);\n",
    "\"\"\"\n",
    "my3_shfl = torch.utils.cpp_extension.load_inline(\n",
    "    \"my3_shfl\", cpp_src3_shfl, cuda_src3_shfl,\n",
    "    functions=['softmax3_shfl'], extra_cuda_cflags=['--ptxas-options=-v'], verbose=True,\n",
    ")"
   ]
  },
  {
   "cell_type": "code",
   "execution_count": 23,
   "metadata": {},
   "outputs": [],
   "source": [
    "torch.testing.assert_close(my3_shfl.softmax3_shfl(matrix), torch.nn.functional.softmax(matrix, dim=-1))"
   ]
  },
  {
   "cell_type": "code",
   "execution_count": 24,
   "metadata": {},
   "outputs": [
    {
     "name": "stdout",
     "output_type": "stream",
     "text": [
      "130 μs ± 9.62 ns per loop (mean ± std. dev. of 7 runs, 10,000 loops each)\n"
     ]
    }
   ],
   "source": [
    "%%timeit\n",
    "my3_shfl.softmax3_shfl(matrix)\n",
    "torch.cuda.synchronize()"
   ]
  },
  {
   "cell_type": "code",
   "execution_count": 25,
   "metadata": {},
   "outputs": [],
   "source": [
    "import triton\n",
    "import triton.language as tl"
   ]
  },
  {
   "cell_type": "code",
   "execution_count": 26,
   "metadata": {},
   "outputs": [],
   "source": [
    "@triton.jit\n",
    "def triton_softmax_kernel(\n",
    "    x,\n",
    "    x_row_stride,\n",
    "    y,\n",
    "    y_row_stride,\n",
    "    n_cols,\n",
    "    block_size: tl.constexpr,\n",
    "):\n",
    "    row_idx = tl.program_id(0)\n",
    "    x_row_start = x + row_idx * x_row_stride\n",
    "    col_offsets = tl.arange(0, block_size)\n",
    "    row_ptrs = x_row_start + col_offsets\n",
    "    mask = col_offsets < n_cols\n",
    "    row = tl.load(row_ptrs, mask=mask, other=float('-inf'))\n",
    "\n",
    "    row_max = tl.max(row, axis=0)\n",
    "    safe_row = row - row_max\n",
    "    exp_row = tl.exp(safe_row)\n",
    "    sum_row = tl.sum(exp_row, axis=0)\n",
    "    y_row_start = y + row_idx * y_row_stride\n",
    "    y_ptrs = y_row_start + col_offsets\n",
    "    tl.store(y_ptrs, exp_row / sum_row, mask=mask)\n",
    "\n",
    "def triton_softmax(x: torch.Tensor) -> torch.Tensor:\n",
    "    x_flatten = x.reshape(-1, x.size(-1))\n",
    "    y = torch.empty_like(x_flatten)\n",
    "    rows, cols = x_flatten.shape\n",
    "    block_size = triton.next_power_of_2(cols)\n",
    "    num_warps = 4\n",
    "    if block_size > 2047:\n",
    "        num_warps = 8\n",
    "    elif block_size > 4095:\n",
    "        num_warps = 16\n",
    "\n",
    "    grid = (rows, )\n",
    "    triton_softmax_kernel[grid](x_flatten, x_flatten.stride(0), y, y.stride(0), cols, block_size, num_warps=num_warps)\n",
    "    \n",
    "    return y.view_as(x)"
   ]
  },
  {
   "cell_type": "code",
   "execution_count": 27,
   "metadata": {},
   "outputs": [],
   "source": [
    "torch.testing.assert_close(triton_softmax(matrix), torch.nn.functional.softmax(matrix, dim=-1))"
   ]
  },
  {
   "cell_type": "code",
   "execution_count": 28,
   "metadata": {},
   "outputs": [
    {
     "name": "stdout",
     "output_type": "stream",
     "text": [
      "112 μs ± 185 ns per loop (mean ± std. dev. of 7 runs, 10,000 loops each)\n"
     ]
    }
   ],
   "source": [
    "%%timeit\n",
    "triton_softmax(matrix)\n",
    "torch.cuda.synchronize()"
   ]
  },
  {
   "cell_type": "code",
   "execution_count": 29,
   "metadata": {},
   "outputs": [],
   "source": [
    "@triton.jit\n",
    "def triton_softmax2_kernel(\n",
    "    x,\n",
    "    x_row_stride,\n",
    "    y,\n",
    "    y_row_stride,\n",
    "    n_cols,\n",
    "    block_size: tl.constexpr,\n",
    "):\n",
    "    row_idx = tl.program_id(0)\n",
    "    x_row_start = x + row_idx * x_row_stride\n",
    "    y_row_start = y + row_idx * y_row_stride\n",
    "    offsets = tl.arange(0, block_size)\n",
    "    row_max = tl.full((), -float(\"inf\"), dtype=tl.float32)\n",
    "    for b in range(0, (n_cols + block_size - 1) // block_size):\n",
    "        idx = b * block_size + offsets\n",
    "        mask = idx < n_cols\n",
    "        x_vals = tl.load(x_row_start + idx, mask=mask)\n",
    "        row_max = tl.maximum(row_max, tl.max(x_vals.to(tl.float32)))\n",
    "\n",
    "    row_sum = tl.zeros((), dtype=tl.float32)\n",
    "    for b in range(0, (n_cols + block_size - 1) // block_size):\n",
    "        idx = b * block_size + offsets\n",
    "        mask = idx < n_cols\n",
    "        x_vals = tl.load(x_row_start + idx, mask=mask, other=-float(\"inf\"))\n",
    "        x_vals = tl.exp(x_vals - row_max)\n",
    "        row_sum += tl.sum(x_vals)\n",
    "        tl.store(y_row_start + idx, x_vals, mask=mask)\n",
    "\n",
    "    for b in range(0, (n_cols + block_size - 1) // block_size):\n",
    "        idx = b * block_size + offsets\n",
    "        mask = idx < n_cols\n",
    "        y_vals = tl.load(y_row_start + idx, mask=mask)\n",
    "        y_vals /= row_sum\n",
    "        tl.store(y_row_start + idx, y_vals, mask=mask)\n",
    "    \n",
    "\n",
    "def triton_softmax2(x: torch.Tensor) -> torch.Tensor:\n",
    "    x_flatten = x.reshape(-1, x.size(-1))\n",
    "    y = torch.empty_like(x_flatten)\n",
    "    rows, cols = x_flatten.shape\n",
    "    block_size = 1024 * 32\n",
    "    num_warps = 4\n",
    "    if block_size > 2047:\n",
    "        num_warps = 8\n",
    "    elif block_size > 4095:\n",
    "        num_warps = 16\n",
    "    grid = (rows,)\n",
    "    triton_softmax2_kernel[grid](x_flatten, x_flatten.stride(0), y, y.stride(0), cols, block_size, num_warps=num_warps)\n",
    "    return y.view_as(x)"
   ]
  },
  {
   "cell_type": "code",
   "execution_count": 30,
   "metadata": {},
   "outputs": [],
   "source": [
    "torch.testing.assert_close(triton_softmax2(matrix), torch.nn.functional.softmax(matrix, dim=-1))"
   ]
  },
  {
   "cell_type": "code",
   "execution_count": 31,
   "metadata": {},
   "outputs": [
    {
     "name": "stdout",
     "output_type": "stream",
     "text": [
      "173 μs ± 91.4 ns per loop (mean ± std. dev. of 7 runs, 10,000 loops each)\n"
     ]
    }
   ],
   "source": [
    "%%timeit\n",
    "triton_softmax2(matrix)\n",
    "torch.cuda.synchronize()"
   ]
  },
  {
   "cell_type": "code",
   "execution_count": 32,
   "metadata": {},
   "outputs": [],
   "source": [
    "@triton.testing.perf_report(\n",
    "    triton.testing.Benchmark(\n",
    "        x_names=['size'],  # Argument names to use as an x-axis for the plot.\n",
    "        x_vals=[2**i for i in range(12, 20, 1)],  # Different possible values for `x_name`.\n",
    "        x_log=True,  # x axis is logarithmic.\n",
    "        line_arg='provider',  # Argument name whose value corresponds to a different line in the plot.\n",
    "        line_vals=['triton', 'torch', 'softmax2', 'softmax2_shfl', 'softmax3', 'softmax3_shfl', 'triton2'],  # Possible values for `line_arg`.\n",
    "        line_names=['Triton', 'Torch', 'SM2', 'SM2SHFL', 'SM3', 'SM3SHFL', 'Triton2'],  # Label name for the lines.\n",
    "        styles=[('blue', '-'), ('green', '-'), ('red', '-'), ('pink', '-'), ('yellow', '-'), ('black', '-'), ('orange', '-')],  # Line styles.\n",
    "        ylabel='GB/s',  # Label name for the y-axis.\n",
    "        plot_name='softmax-performance',  # Name for the plot. Used also as a file name for saving the plot.\n",
    "        args={},  # Values for function arguments not in `x_names` and `y_name`.\n",
    "    ))\n",
    "def triton_softmax_benchmark(size, provider):\n",
    "    x = torch.rand((1, size), device=\"cuda\", dtype=torch.float32)\n",
    "    quantiles = [0.5, 0.2, 0.8]\n",
    "    if provider == \"torch\":\n",
    "        ms, min_ms, max_ms = triton.testing.do_bench(lambda: torch.nn.functional.softmax(x), quantiles=quantiles)\n",
    "    if provider == \"softmax2\":\n",
    "        ms, min_ms, max_ms = triton.testing.do_bench(lambda: my2.softmax2(x), quantiles=quantiles)\n",
    "    if provider == \"softmax2_shfl\":\n",
    "        ms, min_ms, max_ms = triton.testing.do_bench(lambda: my2_shfl.softmax2_shfl(x), quantiles=quantiles)\n",
    "    if provider == \"softmax3\":\n",
    "        ms, min_ms, max_ms = triton.testing.do_bench(lambda: my3.softmax3(x), quantiles=quantiles)\n",
    "    if provider == \"softmax3_shfl\":\n",
    "        ms, min_ms, max_ms = triton.testing.do_bench(lambda: my3_shfl.softmax3_shfl(x), quantiles=quantiles)\n",
    "    if provider == 'triton':\n",
    "        ms, min_ms, max_ms = triton.testing.do_bench(lambda: triton_softmax(x), quantiles=quantiles)\n",
    "    if provider == 'triton2':\n",
    "        ms, min_ms, max_ms = triton.testing.do_bench(lambda: triton_softmax2(x), quantiles=quantiles)\n",
    "    gbps = lambda ms: 2 * x.numel() * x.element_size() * 1e-9 / (ms * 1e-3)\n",
    "    return gbps(ms), gbps(max_ms), gbps(min_ms)"
   ]
  },
  {
   "cell_type": "code",
   "execution_count": 33,
   "metadata": {},
   "outputs": [
    {
     "name": "stderr",
     "output_type": "stream",
     "text": [
      "/tmp/ipykernel_3957483/2724057920.py:18: UserWarning: Implicit dimension choice for softmax has been deprecated. Change the call to include dim=X as an argument.\n",
      "  ms, min_ms, max_ms = triton.testing.do_bench(lambda: torch.nn.functional.softmax(x), quantiles=quantiles)\n",
      "/tmp/ipykernel_3957483/2724057920.py:18: UserWarning: Implicit dimension choice for softmax has been deprecated. Change the call to include dim=X as an argument.\n",
      "  ms, min_ms, max_ms = triton.testing.do_bench(lambda: torch.nn.functional.softmax(x), quantiles=quantiles)\n",
      "/tmp/ipykernel_3957483/2724057920.py:18: UserWarning: Implicit dimension choice for softmax has been deprecated. Change the call to include dim=X as an argument.\n",
      "  ms, min_ms, max_ms = triton.testing.do_bench(lambda: torch.nn.functional.softmax(x), quantiles=quantiles)\n",
      "/tmp/ipykernel_3957483/2724057920.py:18: UserWarning: Implicit dimension choice for softmax has been deprecated. Change the call to include dim=X as an argument.\n",
      "  ms, min_ms, max_ms = triton.testing.do_bench(lambda: torch.nn.functional.softmax(x), quantiles=quantiles)\n",
      "/tmp/ipykernel_3957483/2724057920.py:18: UserWarning: Implicit dimension choice for softmax has been deprecated. Change the call to include dim=X as an argument.\n",
      "  ms, min_ms, max_ms = triton.testing.do_bench(lambda: torch.nn.functional.softmax(x), quantiles=quantiles)\n",
      "/tmp/ipykernel_3957483/2724057920.py:18: UserWarning: Implicit dimension choice for softmax has been deprecated. Change the call to include dim=X as an argument.\n",
      "  ms, min_ms, max_ms = triton.testing.do_bench(lambda: torch.nn.functional.softmax(x), quantiles=quantiles)\n",
      "/tmp/ipykernel_3957483/2724057920.py:18: UserWarning: Implicit dimension choice for softmax has been deprecated. Change the call to include dim=X as an argument.\n",
      "  ms, min_ms, max_ms = triton.testing.do_bench(lambda: torch.nn.functional.softmax(x), quantiles=quantiles)\n",
      "/tmp/ipykernel_3957483/2724057920.py:18: UserWarning: Implicit dimension choice for softmax has been deprecated. Change the call to include dim=X as an argument.\n",
      "  ms, min_ms, max_ms = triton.testing.do_bench(lambda: torch.nn.functional.softmax(x), quantiles=quantiles)\n"
     ]
    },
    {
     "data": {
      "image/png": "[encoded data removed]",
      "text/plain": [
       "<Figure size 640x480 with 1 Axes>"
      ]
     },
     "metadata": {},
     "output_type": "display_data"
    },
    {
     "name": "stdout",
     "output_type": "stream",
     "text": [
      "softmax-performance:\n",
      "       size     Triton      Torch        SM2    SM2SHFL        SM3    SM3SHFL    Triton2\n",
      "0    4096.0   4.995122   4.551111   3.764706   4.357447   3.764706   4.530973   2.790191\n",
      "1    8192.0   8.752137   7.670412   6.481013   7.314286   6.736842   7.557196   5.375328\n",
      "2   16384.0  15.170371  11.770115  10.638961  11.736389  10.893617  12.154302   9.729216\n",
      "3   32768.0  22.021505  16.890722  15.255121  16.157790  15.663479  16.684317  16.616632\n",
      "4   65536.0  26.089172  20.871338  16.094303  16.752556  16.890722  17.485593  16.031311\n",
      "5  131072.0   7.498398  23.455976  18.014294  18.347145  19.275294  19.823351  16.890722\n",
      "6  262144.0   7.237548  25.710474  19.464211  19.627433  20.858053  21.161123  17.607738\n",
      "7  524288.0   6.913080  27.064217  20.277228  20.384448  21.889112  22.054855  18.014294\n"
     ]
    }
   ],
   "source": [
    "triton_softmax_benchmark.run(print_data=True, show_plots=True)"
   ]
  },
  {
   "cell_type": "code",
   "execution_count": 34,
   "metadata": {},
   "outputs": [
    {
     "data": {
      "text/plain": [
       "_CudaDeviceProperties(name='NVIDIA H200', major=9, minor=0, total_memory=143167MB, multi_processor_count=132, uuid=ebf08fa4-8f80-7906-d64b-99af1a15f76e, L2_cache_size=60MB)"
      ]
     },
     "execution_count": 34,
     "metadata": {},
     "output_type": "execute_result"
    }
   ],
   "source": [
    "torch.cuda.get_device_properties()"
   ]
  },
  {
   "cell_type": "code",
   "execution_count": 35,
   "metadata": {},
   "outputs": [
    {
     "data": {
      "text/plain": [
       "233472"
      ]
     },
     "execution_count": 35,
     "metadata": {},
     "output_type": "execute_result"
    }
   ],
   "source": [
    "device_properties = torch.cuda.get_device_properties(0) \n",
    "device_properties.shared_memory_per_multiprocessor"
   ]
  }
 ],
 "metadata": {
  "kernelspec": {
   "display_name": "Python 3 (ipykernel)",
   "language": "python",
   "name": "python3"
  },
  "language_info": {
   "codemirror_mode": {
    "name": "ipython",
    "version": 3
   },
   "file_extension": ".py",
   "mimetype": "text/x-python",
   "name": "python",
   "nbconvert_exporter": "python",
   "pygments_lexer": "ipython3",
   "version": "3.12.9"
  }
 },
 "nbformat": 4,
 "nbformat_minor": 2
}
