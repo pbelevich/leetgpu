{
 "cells": [
  {
   "cell_type": "code",
   "execution_count": 1,
   "metadata": {},
   "outputs": [],
   "source": [
    "import torch\n",
    "import torch.utils.cpp_extension\n",
    "from pathlib import Path\n",
    "import random\n",
    "import triton\n",
    "import triton.language as tl"
   ]
  },
  {
   "cell_type": "code",
   "execution_count": 2,
   "metadata": {},
   "outputs": [],
   "source": [
    "torch.manual_seed(42)\n",
    "torch.cuda.manual_seed_all(42)"
   ]
  },
  {
   "cell_type": "code",
   "execution_count": 3,
   "metadata": {},
   "outputs": [],
   "source": [
    "def test_correctness(softmax_impl, repeats=100):\n",
    "    for i in range(repeats):\n",
    "        row = random.randint(1, 1024 * 32)\n",
    "        cols = random.randint(1, 1024 * 32)\n",
    "        a = torch.randn((row, cols), device=\"cuda\", dtype=torch.float32)\n",
    "        torch.testing.assert_close(softmax_impl(a), torch.nn.functional.softmax(a, dim=-1), msg=f\"row = {row}, cols = {cols}\")\n",
    "    return softmax_impl"
   ]
  },
  {
   "cell_type": "code",
   "execution_count": 4,
   "metadata": {},
   "outputs": [
    {
     "data": {
      "text/plain": [
       "<function __main__.<lambda>(a)>"
      ]
     },
     "execution_count": 4,
     "metadata": {},
     "output_type": "execute_result"
    }
   ],
   "source": [
    "test_correctness(lambda a: torch.nn.functional.softmax(a, dim=-1))"
   ]
  },
  {
   "cell_type": "code",
   "execution_count": 5,
   "metadata": {},
   "outputs": [],
   "source": [
    "def load_cuda_impl(file_name):\n",
    "    cuda_src = Path(file_name).read_text()\n",
    "    cpp_src = \"\"\"\n",
    "    torch::Tensor softmax(const torch::Tensor& x);\n",
    "    \"\"\"\n",
    "    my = torch.utils.cpp_extension.load_inline(\n",
    "        \"my\", cpp_src, cuda_src,\n",
    "        functions=['softmax'], extra_cuda_cflags=['--ptxas-options=-v'], verbose=True,\n",
    "    )\n",
    "    return my.softmax"
   ]
  },
  {
   "cell_type": "code",
   "execution_count": 6,
   "metadata": {},
   "outputs": [],
   "source": [
    "kernels = {}"
   ]
  },
  {
   "cell_type": "code",
   "execution_count": 7,
   "metadata": {},
   "outputs": [],
   "source": [
    "def add_kernel(name, kernel):\n",
    "    kernels[name] = kernel"
   ]
  },
  {
   "cell_type": "code",
   "execution_count": 8,
   "metadata": {},
   "outputs": [],
   "source": [
    "add_kernel(\"Torch\", torch.nn.functional.softmax)"
   ]
  },
  {
   "cell_type": "markdown",
   "metadata": {},
   "source": [
    "## Naive"
   ]
  },
  {
   "cell_type": "code",
   "execution_count": 9,
   "metadata": {},
   "outputs": [],
   "source": [
    "def naive_pytorch_softmax(x, dim=None):\n",
    "    m = torch.max(x, dim=dim, keepdim=True)[0]\n",
    "    e = torch.exp(x - m)\n",
    "    s = torch.sum(e, dim=dim, keepdim=True)\n",
    "    return e / s"
   ]
  },
  {
   "cell_type": "code",
   "execution_count": 10,
   "metadata": {},
   "outputs": [],
   "source": [
    "add_kernel(\"Naive\", test_correctness(lambda a: naive_pytorch_softmax(a, dim=-1)))"
   ]
  },
  {
   "cell_type": "code",
   "execution_count": 11,
   "metadata": {},
   "outputs": [],
   "source": [
    "@torch.compile\n",
    "def compiled_naive_pytorch_softmax(x, dim=None):\n",
    "    return naive_pytorch_softmax(x, dim=dim)"
   ]
  },
  {
   "cell_type": "code",
   "execution_count": 12,
   "metadata": {},
   "outputs": [],
   "source": [
    "add_kernel(\"CompiledNaive\", test_correctness(lambda a: compiled_naive_pytorch_softmax(a, dim=-1)))"
   ]
  },
  {
   "cell_type": "markdown",
   "metadata": {},
   "source": [
    "## CUDA"
   ]
  },
  {
   "cell_type": "code",
   "execution_count": 13,
   "metadata": {},
   "outputs": [
    {
     "name": "stderr",
     "output_type": "stream",
     "text": [
      "Using /home/belevich/.cache/torch_extensions/py312_cu126 as PyTorch extensions root...\n",
      "Detected CUDA files, patching ldflags\n",
      "Emitting ninja build file /home/belevich/.cache/torch_extensions/py312_cu126/my/build.ninja...\n",
      "/fsxl/belevich/miniconda3/lib/python3.12/site-packages/torch/utils/cpp_extension.py:2356: UserWarning: TORCH_CUDA_ARCH_LIST is not set, all archs for visible cards are included for compilation. \n",
      "If this is not desired, please set os.environ['TORCH_CUDA_ARCH_LIST'].\n",
      "  warnings.warn(\n",
      "Building extension module my...\n",
      "Allowing ninja to set a default number of workers... (overridable by setting the environment variable MAX_JOBS=N)\n"
     ]
    },
    {
     "name": "stdout",
     "output_type": "stream",
     "text": [
      "[1/3] c++ -MMD -MF main.o.d -DTORCH_EXTENSION_NAME=my -DTORCH_API_INCLUDE_EXTENSION_H -DPYBIND11_COMPILER_TYPE=\\\"_gcc\\\" -DPYBIND11_STDLIB=\\\"_libstdcpp\\\" -DPYBIND11_BUILD_ABI=\\\"_cxxabi1016\\\" -isystem /fsxl/belevich/miniconda3/lib/python3.12/site-packages/torch/include -isystem /fsxl/belevich/miniconda3/lib/python3.12/site-packages/torch/include/torch/csrc/api/include -isystem /usr/local/cuda/include -isystem /fsxl/belevich/miniconda3/include/python3.12 -D_GLIBCXX_USE_CXX11_ABI=1 -fPIC -std=c++17 -c /home/belevich/.cache/torch_extensions/py312_cu126/my/main.cpp -o main.o \n",
      "[2/3] /usr/local/cuda/bin/nvcc --generate-dependencies-with-compile --dependency-output cuda.cuda.o.d -DTORCH_EXTENSION_NAME=my -DTORCH_API_INCLUDE_EXTENSION_H -DPYBIND11_COMPILER_TYPE=\\\"_gcc\\\" -DPYBIND11_STDLIB=\\\"_libstdcpp\\\" -DPYBIND11_BUILD_ABI=\\\"_cxxabi1016\\\" -isystem /fsxl/belevich/miniconda3/lib/python3.12/site-packages/torch/include -isystem /fsxl/belevich/miniconda3/lib/python3.12/site-packages/torch/include/torch/csrc/api/include -isystem /usr/local/cuda/include -isystem /fsxl/belevich/miniconda3/include/python3.12 -D_GLIBCXX_USE_CXX11_ABI=1 -D__CUDA_NO_HALF_OPERATORS__ -D__CUDA_NO_HALF_CONVERSIONS__ -D__CUDA_NO_BFLOAT16_CONVERSIONS__ -D__CUDA_NO_HALF2_OPERATORS__ --expt-relaxed-constexpr -gencode=arch=compute_90,code=compute_90 -gencode=arch=compute_90,code=sm_90 --compiler-options '-fPIC' --ptxas-options=-v -std=c++17 -c /home/belevich/.cache/torch_extensions/py312_cu126/my/cuda.cu -o cuda.cuda.o \n",
      "ptxas info    : 11 bytes gmem\n",
      "ptxas info    : Compiling entry function '_Z14softmax_kernelPKfPfii' for 'sm_90'\n",
      "ptxas info    : Function properties for _Z14softmax_kernelPKfPfii\n",
      "    0 bytes stack frame, 0 bytes spill stores, 0 bytes spill loads\n",
      "ptxas info    : Used 31 registers, used 0 barriers\n",
      "ptxas info    : Compile time = 20.408 ms\n",
      "[3/3] c++ main.o cuda.cuda.o -shared -L/fsxl/belevich/miniconda3/lib/python3.12/site-packages/torch/lib -lc10 -lc10_cuda -ltorch_cpu -ltorch_cuda -ltorch -ltorch_python -L/usr/local/cuda/lib64 -lcudart -o my.so\n"
     ]
    },
    {
     "name": "stderr",
     "output_type": "stream",
     "text": [
      "Loading extension module my...\n"
     ]
    }
   ],
   "source": [
    "softmax1 = add_kernel(\"CUDA1\", test_correctness(load_cuda_impl(\"softmax1.cu\")))"
   ]
  },
  {
   "cell_type": "code",
   "execution_count": 14,
   "metadata": {},
   "outputs": [
    {
     "name": "stderr",
     "output_type": "stream",
     "text": [
      "Using /home/belevich/.cache/torch_extensions/py312_cu126 as PyTorch extensions root...\n",
      "The input conditions for extension module my have changed. Bumping to version 1 and re-building as my_v1...\n",
      "Detected CUDA files, patching ldflags\n",
      "Emitting ninja build file /home/belevich/.cache/torch_extensions/py312_cu126/my/build.ninja...\n",
      "/fsxl/belevich/miniconda3/lib/python3.12/site-packages/torch/utils/cpp_extension.py:2356: UserWarning: TORCH_CUDA_ARCH_LIST is not set, all archs for visible cards are included for compilation. \n",
      "If this is not desired, please set os.environ['TORCH_CUDA_ARCH_LIST'].\n",
      "  warnings.warn(\n",
      "Building extension module my_v1...\n",
      "Allowing ninja to set a default number of workers... (overridable by setting the environment variable MAX_JOBS=N)\n"
     ]
    },
    {
     "name": "stdout",
     "output_type": "stream",
     "text": [
      "[1/3] c++ -MMD -MF main.o.d -DTORCH_EXTENSION_NAME=my_v1 -DTORCH_API_INCLUDE_EXTENSION_H -DPYBIND11_COMPILER_TYPE=\\\"_gcc\\\" -DPYBIND11_STDLIB=\\\"_libstdcpp\\\" -DPYBIND11_BUILD_ABI=\\\"_cxxabi1016\\\" -isystem /fsxl/belevich/miniconda3/lib/python3.12/site-packages/torch/include -isystem /fsxl/belevich/miniconda3/lib/python3.12/site-packages/torch/include/torch/csrc/api/include -isystem /usr/local/cuda/include -isystem /fsxl/belevich/miniconda3/include/python3.12 -D_GLIBCXX_USE_CXX11_ABI=1 -fPIC -std=c++17 -c /home/belevich/.cache/torch_extensions/py312_cu126/my/main.cpp -o main.o \n",
      "[2/3] /usr/local/cuda/bin/nvcc --generate-dependencies-with-compile --dependency-output cuda.cuda.o.d -DTORCH_EXTENSION_NAME=my_v1 -DTORCH_API_INCLUDE_EXTENSION_H -DPYBIND11_COMPILER_TYPE=\\\"_gcc\\\" -DPYBIND11_STDLIB=\\\"_libstdcpp\\\" -DPYBIND11_BUILD_ABI=\\\"_cxxabi1016\\\" -isystem /fsxl/belevich/miniconda3/lib/python3.12/site-packages/torch/include -isystem /fsxl/belevich/miniconda3/lib/python3.12/site-packages/torch/include/torch/csrc/api/include -isystem /usr/local/cuda/include -isystem /fsxl/belevich/miniconda3/include/python3.12 -D_GLIBCXX_USE_CXX11_ABI=1 -D__CUDA_NO_HALF_OPERATORS__ -D__CUDA_NO_HALF_CONVERSIONS__ -D__CUDA_NO_BFLOAT16_CONVERSIONS__ -D__CUDA_NO_HALF2_OPERATORS__ --expt-relaxed-constexpr -gencode=arch=compute_90,code=compute_90 -gencode=arch=compute_90,code=sm_90 --compiler-options '-fPIC' --ptxas-options=-v -std=c++17 -c /home/belevich/.cache/torch_extensions/py312_cu126/my/cuda.cu -o cuda.cuda.o \n",
      "ptxas info    : 11 bytes gmem\n",
      "ptxas info    : Compiling entry function '_Z14softmax_kernelPKfPfii' for 'sm_90'\n",
      "ptxas info    : Function properties for _Z14softmax_kernelPKfPfii\n",
      "    0 bytes stack frame, 0 bytes spill stores, 0 bytes spill loads\n",
      "ptxas info    : Used 26 registers, used 1 barriers\n",
      "ptxas info    : Compile time = 20.941 ms\n",
      "[3/3] c++ main.o cuda.cuda.o -shared -L/fsxl/belevich/miniconda3/lib/python3.12/site-packages/torch/lib -lc10 -lc10_cuda -ltorch_cpu -ltorch_cuda -ltorch -ltorch_python -L/usr/local/cuda/lib64 -lcudart -o my_v1.so\n"
     ]
    },
    {
     "name": "stderr",
     "output_type": "stream",
     "text": [
      "Loading extension module my_v1...\n"
     ]
    }
   ],
   "source": [
    "softmax2 = add_kernel(\"CUDA2\", test_correctness(load_cuda_impl(\"softmax2.cu\")))"
   ]
  },
  {
   "cell_type": "code",
   "execution_count": 15,
   "metadata": {},
   "outputs": [
    {
     "name": "stderr",
     "output_type": "stream",
     "text": [
      "Using /home/belevich/.cache/torch_extensions/py312_cu126 as PyTorch extensions root...\n",
      "The input conditions for extension module my have changed. Bumping to version 2 and re-building as my_v2...\n",
      "Detected CUDA files, patching ldflags\n",
      "Emitting ninja build file /home/belevich/.cache/torch_extensions/py312_cu126/my/build.ninja...\n",
      "/fsxl/belevich/miniconda3/lib/python3.12/site-packages/torch/utils/cpp_extension.py:2356: UserWarning: TORCH_CUDA_ARCH_LIST is not set, all archs for visible cards are included for compilation. \n",
      "If this is not desired, please set os.environ['TORCH_CUDA_ARCH_LIST'].\n",
      "  warnings.warn(\n",
      "Building extension module my_v2...\n",
      "Allowing ninja to set a default number of workers... (overridable by setting the environment variable MAX_JOBS=N)\n"
     ]
    },
    {
     "name": "stdout",
     "output_type": "stream",
     "text": [
      "[1/3] c++ -MMD -MF main.o.d -DTORCH_EXTENSION_NAME=my_v2 -DTORCH_API_INCLUDE_EXTENSION_H -DPYBIND11_COMPILER_TYPE=\\\"_gcc\\\" -DPYBIND11_STDLIB=\\\"_libstdcpp\\\" -DPYBIND11_BUILD_ABI=\\\"_cxxabi1016\\\" -isystem /fsxl/belevich/miniconda3/lib/python3.12/site-packages/torch/include -isystem /fsxl/belevich/miniconda3/lib/python3.12/site-packages/torch/include/torch/csrc/api/include -isystem /usr/local/cuda/include -isystem /fsxl/belevich/miniconda3/include/python3.12 -D_GLIBCXX_USE_CXX11_ABI=1 -fPIC -std=c++17 -c /home/belevich/.cache/torch_extensions/py312_cu126/my/main.cpp -o main.o \n",
      "[2/3] /usr/local/cuda/bin/nvcc --generate-dependencies-with-compile --dependency-output cuda.cuda.o.d -DTORCH_EXTENSION_NAME=my_v2 -DTORCH_API_INCLUDE_EXTENSION_H -DPYBIND11_COMPILER_TYPE=\\\"_gcc\\\" -DPYBIND11_STDLIB=\\\"_libstdcpp\\\" -DPYBIND11_BUILD_ABI=\\\"_cxxabi1016\\\" -isystem /fsxl/belevich/miniconda3/lib/python3.12/site-packages/torch/include -isystem /fsxl/belevich/miniconda3/lib/python3.12/site-packages/torch/include/torch/csrc/api/include -isystem /usr/local/cuda/include -isystem /fsxl/belevich/miniconda3/include/python3.12 -D_GLIBCXX_USE_CXX11_ABI=1 -D__CUDA_NO_HALF_OPERATORS__ -D__CUDA_NO_HALF_CONVERSIONS__ -D__CUDA_NO_BFLOAT16_CONVERSIONS__ -D__CUDA_NO_HALF2_OPERATORS__ --expt-relaxed-constexpr -gencode=arch=compute_90,code=compute_90 -gencode=arch=compute_90,code=sm_90 --compiler-options '-fPIC' --ptxas-options=-v -std=c++17 -c /home/belevich/.cache/torch_extensions/py312_cu126/my/cuda.cu -o cuda.cuda.o \n",
      "ptxas info    : 11 bytes gmem\n",
      "ptxas info    : Compiling entry function '_Z19softmax_shfl_kernelPKfPfii' for 'sm_90'\n",
      "ptxas info    : Function properties for _Z19softmax_shfl_kernelPKfPfii\n",
      "    0 bytes stack frame, 0 bytes spill stores, 0 bytes spill loads\n",
      "ptxas info    : Used 26 registers, used 1 barriers\n",
      "ptxas info    : Compile time = 24.125 ms\n",
      "[3/3] c++ main.o cuda.cuda.o -shared -L/fsxl/belevich/miniconda3/lib/python3.12/site-packages/torch/lib -lc10 -lc10_cuda -ltorch_cpu -ltorch_cuda -ltorch -ltorch_python -L/usr/local/cuda/lib64 -lcudart -o my_v2.so\n"
     ]
    },
    {
     "name": "stderr",
     "output_type": "stream",
     "text": [
      "Loading extension module my_v2...\n"
     ]
    }
   ],
   "source": [
    "softmax2_shfl = add_kernel(\"CUDA2_SHFL\", test_correctness(load_cuda_impl(\"softmax2_shfl.cu\")))"
   ]
  },
  {
   "cell_type": "code",
   "execution_count": 16,
   "metadata": {},
   "outputs": [],
   "source": [
    "# softmax3 = add_kernel(\"CUDA3\", test_correctness(load_cuda_impl(\"softmax3.cu\")))"
   ]
  },
  {
   "cell_type": "code",
   "execution_count": 17,
   "metadata": {},
   "outputs": [
    {
     "name": "stderr",
     "output_type": "stream",
     "text": [
      "Using /home/belevich/.cache/torch_extensions/py312_cu126 as PyTorch extensions root...\n",
      "The input conditions for extension module my have changed. Bumping to version 3 and re-building as my_v3...\n",
      "Detected CUDA files, patching ldflags\n",
      "Emitting ninja build file /home/belevich/.cache/torch_extensions/py312_cu126/my/build.ninja...\n",
      "/fsxl/belevich/miniconda3/lib/python3.12/site-packages/torch/utils/cpp_extension.py:2356: UserWarning: TORCH_CUDA_ARCH_LIST is not set, all archs for visible cards are included for compilation. \n",
      "If this is not desired, please set os.environ['TORCH_CUDA_ARCH_LIST'].\n",
      "  warnings.warn(\n",
      "Building extension module my_v3...\n",
      "Allowing ninja to set a default number of workers... (overridable by setting the environment variable MAX_JOBS=N)\n"
     ]
    },
    {
     "name": "stdout",
     "output_type": "stream",
     "text": [
      "[1/3] c++ -MMD -MF main.o.d -DTORCH_EXTENSION_NAME=my_v3 -DTORCH_API_INCLUDE_EXTENSION_H -DPYBIND11_COMPILER_TYPE=\\\"_gcc\\\" -DPYBIND11_STDLIB=\\\"_libstdcpp\\\" -DPYBIND11_BUILD_ABI=\\\"_cxxabi1016\\\" -isystem /fsxl/belevich/miniconda3/lib/python3.12/site-packages/torch/include -isystem /fsxl/belevich/miniconda3/lib/python3.12/site-packages/torch/include/torch/csrc/api/include -isystem /usr/local/cuda/include -isystem /fsxl/belevich/miniconda3/include/python3.12 -D_GLIBCXX_USE_CXX11_ABI=1 -fPIC -std=c++17 -c /home/belevich/.cache/torch_extensions/py312_cu126/my/main.cpp -o main.o \n",
      "[2/3] /usr/local/cuda/bin/nvcc --generate-dependencies-with-compile --dependency-output cuda.cuda.o.d -DTORCH_EXTENSION_NAME=my_v3 -DTORCH_API_INCLUDE_EXTENSION_H -DPYBIND11_COMPILER_TYPE=\\\"_gcc\\\" -DPYBIND11_STDLIB=\\\"_libstdcpp\\\" -DPYBIND11_BUILD_ABI=\\\"_cxxabi1016\\\" -isystem /fsxl/belevich/miniconda3/lib/python3.12/site-packages/torch/include -isystem /fsxl/belevich/miniconda3/lib/python3.12/site-packages/torch/include/torch/csrc/api/include -isystem /usr/local/cuda/include -isystem /fsxl/belevich/miniconda3/include/python3.12 -D_GLIBCXX_USE_CXX11_ABI=1 -D__CUDA_NO_HALF_OPERATORS__ -D__CUDA_NO_HALF_CONVERSIONS__ -D__CUDA_NO_BFLOAT16_CONVERSIONS__ -D__CUDA_NO_HALF2_OPERATORS__ --expt-relaxed-constexpr -gencode=arch=compute_90,code=compute_90 -gencode=arch=compute_90,code=sm_90 --compiler-options '-fPIC' --ptxas-options=-v -std=c++17 -c /home/belevich/.cache/torch_extensions/py312_cu126/my/cuda.cu -o cuda.cuda.o \n",
      "ptxas info    : 11 bytes gmem\n",
      "ptxas info    : Compiling entry function '_Z19softmax_shfl_kernelPKfPfii' for 'sm_90'\n",
      "ptxas info    : Function properties for _Z19softmax_shfl_kernelPKfPfii\n",
      "    0 bytes stack frame, 0 bytes spill stores, 0 bytes spill loads\n",
      "ptxas info    : Used 26 registers, used 1 barriers\n",
      "ptxas info    : Compile time = 24.198 ms\n",
      "[3/3] c++ main.o cuda.cuda.o -shared -L/fsxl/belevich/miniconda3/lib/python3.12/site-packages/torch/lib -lc10 -lc10_cuda -ltorch_cpu -ltorch_cuda -ltorch -ltorch_python -L/usr/local/cuda/lib64 -lcudart -o my_v3.so\n"
     ]
    },
    {
     "name": "stderr",
     "output_type": "stream",
     "text": [
      "Loading extension module my_v3...\n"
     ]
    }
   ],
   "source": [
    "softmax3_shfl = add_kernel(\"CUDA3_SHFL\", test_correctness(load_cuda_impl(\"softmax3_shfl.cu\")))"
   ]
  },
  {
   "cell_type": "code",
   "execution_count": 18,
   "metadata": {},
   "outputs": [
    {
     "name": "stderr",
     "output_type": "stream",
     "text": [
      "Using /home/belevich/.cache/torch_extensions/py312_cu126 as PyTorch extensions root...\n",
      "The input conditions for extension module my have changed. Bumping to version 4 and re-building as my_v4...\n",
      "Detected CUDA files, patching ldflags\n",
      "Emitting ninja build file /home/belevich/.cache/torch_extensions/py312_cu126/my/build.ninja...\n",
      "/fsxl/belevich/miniconda3/lib/python3.12/site-packages/torch/utils/cpp_extension.py:2356: UserWarning: TORCH_CUDA_ARCH_LIST is not set, all archs for visible cards are included for compilation. \n",
      "If this is not desired, please set os.environ['TORCH_CUDA_ARCH_LIST'].\n",
      "  warnings.warn(\n",
      "Building extension module my_v4...\n",
      "Allowing ninja to set a default number of workers... (overridable by setting the environment variable MAX_JOBS=N)\n"
     ]
    },
    {
     "name": "stdout",
     "output_type": "stream",
     "text": [
      "[1/3] c++ -MMD -MF main.o.d -DTORCH_EXTENSION_NAME=my_v4 -DTORCH_API_INCLUDE_EXTENSION_H -DPYBIND11_COMPILER_TYPE=\\\"_gcc\\\" -DPYBIND11_STDLIB=\\\"_libstdcpp\\\" -DPYBIND11_BUILD_ABI=\\\"_cxxabi1016\\\" -isystem /fsxl/belevich/miniconda3/lib/python3.12/site-packages/torch/include -isystem /fsxl/belevich/miniconda3/lib/python3.12/site-packages/torch/include/torch/csrc/api/include -isystem /usr/local/cuda/include -isystem /fsxl/belevich/miniconda3/include/python3.12 -D_GLIBCXX_USE_CXX11_ABI=1 -fPIC -std=c++17 -c /home/belevich/.cache/torch_extensions/py312_cu126/my/main.cpp -o main.o \n",
      "[2/3] /usr/local/cuda/bin/nvcc --generate-dependencies-with-compile --dependency-output cuda.cuda.o.d -DTORCH_EXTENSION_NAME=my_v4 -DTORCH_API_INCLUDE_EXTENSION_H -DPYBIND11_COMPILER_TYPE=\\\"_gcc\\\" -DPYBIND11_STDLIB=\\\"_libstdcpp\\\" -DPYBIND11_BUILD_ABI=\\\"_cxxabi1016\\\" -isystem /fsxl/belevich/miniconda3/lib/python3.12/site-packages/torch/include -isystem /fsxl/belevich/miniconda3/lib/python3.12/site-packages/torch/include/torch/csrc/api/include -isystem /usr/local/cuda/include -isystem /fsxl/belevich/miniconda3/include/python3.12 -D_GLIBCXX_USE_CXX11_ABI=1 -D__CUDA_NO_HALF_OPERATORS__ -D__CUDA_NO_HALF_CONVERSIONS__ -D__CUDA_NO_BFLOAT16_CONVERSIONS__ -D__CUDA_NO_HALF2_OPERATORS__ --expt-relaxed-constexpr -gencode=arch=compute_90,code=compute_90 -gencode=arch=compute_90,code=sm_90 --compiler-options '-fPIC' --ptxas-options=-v -std=c++17 -c /home/belevich/.cache/torch_extensions/py312_cu126/my/cuda.cu -o cuda.cuda.o \n",
      "ptxas info    : 11 bytes gmem\n",
      "ptxas info    : Compiling entry function '_Z15softmax_kernel5PfiiPKf' for 'sm_90'\n",
      "ptxas info    : Function properties for _Z15softmax_kernel5PfiiPKf\n",
      "    0 bytes stack frame, 0 bytes spill stores, 0 bytes spill loads\n",
      "ptxas info    : Used 16 registers, used 0 barriers\n",
      "ptxas info    : Compile time = 7.286 ms\n",
      "ptxas info    : Compiling entry function '_Z10sum_kernelPKfPfiiiS0_S1_' for 'sm_90'\n",
      "ptxas info    : Function properties for _Z10sum_kernelPKfPfiiiS0_S1_\n",
      "    0 bytes stack frame, 0 bytes spill stores, 0 bytes spill loads\n",
      "ptxas info    : Used 31 registers, used 1 barriers\n",
      "ptxas info    : Compile time = 8.236 ms\n",
      "ptxas info    : Compiling entry function '_Z10max_kernelPKfiiiPf' for 'sm_90'\n",
      "ptxas info    : Function properties for _Z10max_kernelPKfiiiPf\n",
      "    0 bytes stack frame, 0 bytes spill stores, 0 bytes spill loads\n",
      "ptxas info    : Used 27 registers, used 1 barriers\n",
      "ptxas info    : Compile time = 5.742 ms\n",
      "[3/3] c++ main.o cuda.cuda.o -shared -L/fsxl/belevich/miniconda3/lib/python3.12/site-packages/torch/lib -lc10 -lc10_cuda -ltorch_cpu -ltorch_cuda -ltorch -ltorch_python -L/usr/local/cuda/lib64 -lcudart -o my_v4.so\n"
     ]
    },
    {
     "name": "stderr",
     "output_type": "stream",
     "text": [
      "Loading extension module my_v4...\n"
     ]
    }
   ],
   "source": [
    "softmax5 = add_kernel(\"CUDA5\", test_correctness(load_cuda_impl(\"softmax5.cu\")))"
   ]
  },
  {
   "cell_type": "markdown",
   "metadata": {},
   "source": [
    "## Triton"
   ]
  },
  {
   "cell_type": "code",
   "execution_count": 19,
   "metadata": {},
   "outputs": [],
   "source": [
    "@triton.jit\n",
    "def triton_softmax1_kernel(\n",
    "    x,\n",
    "    x_row_stride,\n",
    "    y,\n",
    "    y_row_stride,\n",
    "    n_cols,\n",
    "    block_size: tl.constexpr,\n",
    "):\n",
    "    row_idx = tl.program_id(0)\n",
    "    x_row_start = x + row_idx * x_row_stride\n",
    "    col_offsets = tl.arange(0, block_size)\n",
    "    row_ptrs = x_row_start + col_offsets\n",
    "    mask = col_offsets < n_cols\n",
    "    row = tl.load(row_ptrs, mask=mask, other=float('-inf'))\n",
    "\n",
    "    row_max = tl.max(row, axis=0)\n",
    "    safe_row = row - row_max\n",
    "    exp_row = tl.exp(safe_row)\n",
    "    sum_row = tl.sum(exp_row, axis=0)\n",
    "    y_row_start = y + row_idx * y_row_stride\n",
    "    y_ptrs = y_row_start + col_offsets\n",
    "    tl.store(y_ptrs, exp_row / sum_row, mask=mask)\n",
    "\n",
    "def triton_softmax1(x: torch.Tensor) -> torch.Tensor:\n",
    "    x_flatten = x.reshape(-1, x.size(-1))\n",
    "    y = torch.empty_like(x_flatten)\n",
    "    rows, cols = x_flatten.shape\n",
    "    block_size = triton.next_power_of_2(cols)\n",
    "    num_warps = 4\n",
    "    if block_size > 2047:\n",
    "        num_warps = 8\n",
    "    elif block_size > 4095:\n",
    "        num_warps = 16\n",
    "\n",
    "    grid = (rows, )\n",
    "    triton_softmax1_kernel[grid](x_flatten, x_flatten.stride(0), y, y.stride(0), cols, block_size, num_warps=num_warps)\n",
    "    \n",
    "    return y.view_as(x)\n",
    "\n",
    "add_kernel(\"Triton1\", test_correctness(triton_softmax1))"
   ]
  },
  {
   "cell_type": "code",
   "execution_count": 20,
   "metadata": {},
   "outputs": [],
   "source": [
    "@triton.jit\n",
    "def triton_softmax2_kernel(\n",
    "    x,\n",
    "    x_row_stride,\n",
    "    y,\n",
    "    y_row_stride,\n",
    "    n_cols,\n",
    "    block_size: tl.constexpr,\n",
    "):\n",
    "    row_idx = tl.program_id(0)\n",
    "    x_row_start = x + row_idx * x_row_stride\n",
    "    y_row_start = y + row_idx * y_row_stride\n",
    "    offsets = tl.arange(0, block_size)\n",
    "    row_max = tl.full((), -float(\"inf\"), dtype=tl.float32)\n",
    "    for b in range(0, (n_cols + block_size - 1) // block_size):\n",
    "        idx = b * block_size + offsets\n",
    "        mask = idx < n_cols\n",
    "        x_vals = tl.load(x_row_start + idx, mask=mask)\n",
    "        row_max = tl.maximum(row_max, tl.max(x_vals.to(tl.float32)))\n",
    "\n",
    "    row_sum = tl.zeros((), dtype=tl.float32)\n",
    "    for b in range(0, (n_cols + block_size - 1) // block_size):\n",
    "        idx = b * block_size + offsets\n",
    "        mask = idx < n_cols\n",
    "        x_vals = tl.load(x_row_start + idx, mask=mask, other=-float(\"inf\"))\n",
    "        x_vals = tl.exp(x_vals - row_max)\n",
    "        row_sum += tl.sum(x_vals)\n",
    "        tl.store(y_row_start + idx, x_vals, mask=mask)\n",
    "\n",
    "    for b in range(0, (n_cols + block_size - 1) // block_size):\n",
    "        idx = b * block_size + offsets\n",
    "        mask = idx < n_cols\n",
    "        y_vals = tl.load(y_row_start + idx, mask=mask)\n",
    "        y_vals /= row_sum\n",
    "        tl.store(y_row_start + idx, y_vals, mask=mask)\n",
    "    \n",
    "\n",
    "def triton_softmax2(x: torch.Tensor) -> torch.Tensor:\n",
    "    x_flatten = x.reshape(-1, x.size(-1))\n",
    "    y = torch.empty_like(x_flatten)\n",
    "    rows, cols = x_flatten.shape\n",
    "    block_size = 1024 * 32\n",
    "    num_warps = 4\n",
    "    if block_size > 2047:\n",
    "        num_warps = 8\n",
    "    elif block_size > 4095:\n",
    "        num_warps = 16\n",
    "    grid = (rows,)\n",
    "    triton_softmax2_kernel[grid](x_flatten, x_flatten.stride(0), y, y.stride(0), cols, block_size, num_warps=num_warps)\n",
    "    return y.view_as(x)\n",
    "\n",
    "add_kernel(\"Triton2\", test_correctness(triton_softmax2))"
   ]
  },
  {
   "cell_type": "code",
   "execution_count": 21,
   "metadata": {},
   "outputs": [],
   "source": [
    "@triton.jit\n",
    "def triton_softmax3_kernel(\n",
    "    x,\n",
    "    x_row_stride,\n",
    "    y,\n",
    "    y_row_stride,\n",
    "    n_cols,\n",
    "    block_size: tl.constexpr,\n",
    "):\n",
    "    row_idx = tl.program_id(0)\n",
    "    x_row_start = x + row_idx * x_row_stride\n",
    "    y_row_start = y + row_idx * y_row_stride\n",
    "    current_max = float('-inf')\n",
    "    current_sum = 0.0\n",
    "    \n",
    "    for block_offset in tl.range(0, n_cols, block_size):\n",
    "        col_offsets = block_offset + tl.arange(0, block_size)\n",
    "        block = tl.load(x_row_start + col_offsets, mask=col_offsets < n_cols, other=float('-inf'))\n",
    "        new_max = tl.maximum(current_max, tl.max(block))\n",
    "        current_sum *= tl.exp(current_max - new_max)\n",
    "        current_sum += tl.sum(tl.exp(block - new_max))\n",
    "        current_max = new_max\n",
    "\n",
    "    for block_offset in tl.range(0, n_cols, block_size):\n",
    "        col_offsets = block_offset + tl.arange(0, block_size)\n",
    "        block = tl.load(x_row_start + col_offsets, mask=col_offsets < n_cols, other=float('-inf'))\n",
    "        tl.store(y_row_start + col_offsets, tl.exp(block - current_max) / current_sum, mask=col_offsets < n_cols)\n",
    "\n",
    "\n",
    "def triton_softmax3(x: torch.Tensor) -> torch.Tensor:\n",
    "    x_flatten = x.reshape(-1, x.size(-1))\n",
    "    y = torch.empty_like(x_flatten)\n",
    "    rows, cols = x_flatten.shape\n",
    "    block_size = 32 * 1024\n",
    "    num_warps = 32\n",
    "    grid = (rows, )\n",
    "    triton_softmax3_kernel[grid](x_flatten, x_flatten.stride(0), y, y.stride(0), cols, block_size, num_warps=num_warps)\n",
    "    return y.view_as(x)\n",
    "\n",
    "add_kernel(\"Triton3\", test_correctness(triton_softmax3))"
   ]
  },
  {
   "cell_type": "code",
   "execution_count": 22,
   "metadata": {},
   "outputs": [],
   "source": [
    "@triton.jit\n",
    "def max_kernel(x, x_row_stride, max_values, n_cols, block_size: tl.constexpr):\n",
    "    row_idx = tl.program_id(0)\n",
    "    x_row_start = x + row_idx * x_row_stride\n",
    "\n",
    "    max_value = tl.full((), float('-inf'), dtype=tl.float32)\n",
    "    for block_offset in tl.range(0, n_cols, block_size):\n",
    "        col_offsets = block_offset + tl.arange(0, block_size)\n",
    "        block = tl.load(x_row_start + col_offsets, mask=col_offsets < n_cols, other=float('-inf'))\n",
    "        max_value = tl.maximum(max_value, tl.max(block))\n",
    "    \n",
    "    tl.store(max_values + row_idx, max_value)\n",
    "\n",
    "@triton.jit\n",
    "def sum_kernel(x, x_row_stride, max_values, sum_values, n_cols, block_size: tl.constexpr):\n",
    "    row_idx = tl.program_id(0)\n",
    "    x_row_start = x + row_idx * x_row_stride\n",
    "\n",
    "    max_value = tl.load(max_values + row_idx)\n",
    "\n",
    "    sum_value = tl.full((), 0.0, dtype=tl.float32)\n",
    "    for block_offset in tl.range(0, n_cols, block_size):\n",
    "        col_offsets = block_offset + tl.arange(0, block_size)\n",
    "        block = tl.load(x_row_start + col_offsets, mask=col_offsets < n_cols, other=float('-inf'))\n",
    "        sum_value += tl.sum(tl.exp(block - max_value))\n",
    "    \n",
    "    tl.store(sum_values + row_idx, sum_value)\n",
    "    \n",
    "@triton.jit\n",
    "def softmax_kernel_5(x, x_row_stride, max_values, sum_values, y, y_row_stride, n_cols, block_size: tl.constexpr):\n",
    "    row_idx = tl.program_id(0)\n",
    "    x_row_start = x + row_idx * x_row_stride\n",
    "    y_row_start = y + row_idx * y_row_stride\n",
    "\n",
    "    max_value = tl.load(max_values + row_idx)\n",
    "    sum_value = tl.load(sum_values + row_idx)\n",
    "\n",
    "    for block_offset in tl.range(0, n_cols, block_size):\n",
    "        col_offsets = block_offset + tl.arange(0, block_size)\n",
    "        block = tl.load(x_row_start + col_offsets, mask=col_offsets < n_cols, other=float('-inf'))\n",
    "        tl.store(y_row_start + col_offsets, tl.exp(block - max_value) / sum_value, mask=col_offsets < n_cols)\n",
    "\n",
    "def triton_softmax5(x: torch.Tensor) -> torch.Tensor:\n",
    "    x_flatten = x.reshape(-1, x.size(-1))\n",
    "    y = torch.empty_like(x_flatten)\n",
    "    rows, cols = x_flatten.shape\n",
    "    block_size = 64 * 1024\n",
    "    num_warps = 32\n",
    "    grid = (rows, )\n",
    "    max_values = torch.empty(rows, device=x.device, dtype=x.dtype)\n",
    "    max_kernel[grid](x_flatten, x_flatten.stride(0), max_values, cols, block_size, num_warps=num_warps)\n",
    "    sum_values = torch.empty(rows, device=x.device, dtype=x.dtype)\n",
    "    sum_kernel[grid](x_flatten, x_flatten.stride(0), max_values, sum_values, cols, block_size, num_warps=num_warps)\n",
    "    softmax_kernel_5[grid](x_flatten, x_flatten.stride(0), max_values, sum_values, y, y.stride(0), cols, block_size, num_warps=num_warps)\n",
    "    return y.view_as(x)\n",
    "\n",
    "add_kernel(\"Triton5\", test_correctness(triton_softmax5))"
   ]
  },
  {
   "cell_type": "code",
   "execution_count": 23,
   "metadata": {},
   "outputs": [],
   "source": [
    "@triton.jit\n",
    "def partial_max_value_kernel(X, partial_max, cols, BLOCK_SIZE: tl.constexpr):\n",
    "    X = X.to(tl.pointer_type(tl.float32))\n",
    "    partial_max = partial_max.to(tl.pointer_type(tl.float32))\n",
    "\n",
    "    row = tl.program_id(0)\n",
    "    pid = tl.program_id(1)\n",
    "\n",
    "    col_offset = pid * BLOCK_SIZE + tl.arange(0, BLOCK_SIZE)\n",
    "    x = tl.load(X + row * cols + col_offset, mask=col_offset < cols, other=-float('inf'))\n",
    "    local_max = tl.max(x, axis=0)\n",
    "    tl.store(partial_max + row * BLOCK_SIZE + pid, local_max)\n",
    "\n",
    "\n",
    "@triton.jit\n",
    "def partial_exp_sum_value_kernel(X, partial_sum, global_max, cols, BLOCK_SIZE: tl.constexpr):\n",
    "    X = X.to(tl.pointer_type(tl.float32))\n",
    "    partial_sum = partial_sum.to(tl.pointer_type(tl.float32))\n",
    "    global_max = global_max.to(tl.pointer_type(tl.float32))\n",
    "\n",
    "    row = tl.program_id(0)\n",
    "    pid = tl.program_id(1)\n",
    "\n",
    "    col_offset = pid * BLOCK_SIZE + tl.arange(0, BLOCK_SIZE)\n",
    "    x = tl.load(X + row * cols + col_offset, mask=col_offset < cols, other=-float('inf'))\n",
    "    gmax = tl.load(global_max + row)\n",
    "    x = tl.exp(x - gmax)\n",
    "    sum_value = tl.sum(x, axis=0)\n",
    "    tl.store(partial_sum + row * BLOCK_SIZE + pid, sum_value)\n",
    "\n",
    "\n",
    "@triton.jit\n",
    "def normalize_kernel(X, Y, global_max, global_sum, cols, BLOCK_SIZE: tl.constexpr):\n",
    "    X = X.to(tl.pointer_type(tl.float32))\n",
    "    Y = Y.to(tl.pointer_type(tl.float32))\n",
    "    global_max = global_max.to(tl.pointer_type(tl.float32))\n",
    "    global_sum = global_sum.to(tl.pointer_type(tl.float32))\n",
    "\n",
    "    row = tl.program_id(0)\n",
    "    pid = tl.program_id(1)\n",
    "\n",
    "    col_offset = pid * BLOCK_SIZE + tl.arange(0, BLOCK_SIZE)\n",
    "    x = tl.load(X + row * cols + col_offset, mask=col_offset < cols, other=-float('inf'))\n",
    "    gmax = tl.load(global_max + row)\n",
    "    gsum = tl.load(global_sum + row)\n",
    "    y = tl.exp(x - gmax) / gsum\n",
    "    tl.store(Y + row * cols + col_offset, y, mask=col_offset < cols)\n",
    "\n",
    "\n",
    "@triton.jit\n",
    "def get_max_value(partial_max, global_max, BLOCK_SIZE: tl.constexpr):\n",
    "    partial_max = partial_max.to(tl.pointer_type(tl.float32))\n",
    "    global_max = global_max.to(tl.pointer_type(tl.float32))\n",
    "\n",
    "    row = tl.program_id(0)\n",
    "\n",
    "    col_offset = tl.arange(0, BLOCK_SIZE)\n",
    "    x = tl.load(partial_max + row * BLOCK_SIZE + col_offset)\n",
    "    local_max = tl.max(x, axis=0)\n",
    "    tl.store(global_max + row, local_max)\n",
    "    \n",
    "\n",
    "@triton.jit\n",
    "def get_sum_value(partial_sum, global_sum, BLOCK_SIZE: tl.constexpr):\n",
    "    partial_sum = partial_sum.to(tl.pointer_type(tl.float32))\n",
    "    global_sum = global_sum.to(tl.pointer_type(tl.float32))\n",
    "\n",
    "    row = tl.program_id(0)\n",
    "\n",
    "    col_offset = tl.arange(0, BLOCK_SIZE)\n",
    "    x = tl.load(partial_sum + row * BLOCK_SIZE + col_offset)\n",
    "    tl.store(global_sum + row, tl.sum(x))\n",
    "    \n",
    "\n",
    "def cudaEmpty(num_elements:int):\n",
    "    import ctypes\n",
    "    cudart = ctypes.CDLL(\"libcudart.so\")\n",
    "    cudart.cudaMalloc.argtypes = [ctypes.POINTER(ctypes.c_void_p), ctypes.c_size_t]\n",
    "    cudart.cudaMalloc.restype = ctypes.c_int\n",
    "    ptr = ctypes.c_void_p()\n",
    "    err = cudart.cudaMalloc(ctypes.byref(ptr), num_elements*4)\n",
    "    if err != 0:\n",
    "        raise RuntimeError(f\"cudaMalloc failed, code {err}\")\n",
    "    return ptr.value\n",
    "\n",
    "def cudaFree(ptr):\n",
    "    import ctypes\n",
    "    cudart = ctypes.CDLL(\"libcudart.so\")\n",
    "    cudart.cudaFree.argtypes = [ctypes.c_void_p]\n",
    "    cudart.cudaFree.restype = ctypes.c_int\n",
    "    err = cudart.cudaFree(ptr)\n",
    "    if err != 0:\n",
    "        raise RuntimeError(f\"cudaFree failed, code {err}\")\n",
    "\n",
    "def triton_softmax6(x: torch.Tensor) -> torch.Tensor:\n",
    "    x_flatten = x.reshape(-1, x.size(-1))\n",
    "    y = torch.empty_like(x_flatten)\n",
    "    rows, cols = x_flatten.shape\n",
    "    BLOCK_SIZE = 32 * 1024\n",
    "    num_blocks = triton.cdiv(cols, BLOCK_SIZE)\n",
    "    grid1 = (rows, num_blocks)\n",
    "    grid2 = (rows, )\n",
    "    partial_max = cudaEmpty(rows * BLOCK_SIZE)\n",
    "    partial_sum = cudaEmpty(rows * BLOCK_SIZE)\n",
    "    global_max = cudaEmpty(rows)\n",
    "    global_sum = cudaEmpty(rows)\n",
    "    partial_max_value_kernel[grid1](x_flatten, partial_max, cols, BLOCK_SIZE)\n",
    "    get_max_value[grid2](partial_max, global_max, BLOCK_SIZE)\n",
    "    partial_exp_sum_value_kernel[grid1](x_flatten, partial_sum, global_max, cols, BLOCK_SIZE)\n",
    "    get_sum_value[grid2](partial_sum, global_sum, BLOCK_SIZE)\n",
    "    normalize_kernel[grid1](x_flatten, y, global_max, global_sum, cols, BLOCK_SIZE)\n",
    "    cudaFree(partial_max)\n",
    "    cudaFree(partial_sum)\n",
    "    cudaFree(global_max)\n",
    "    cudaFree(global_sum)\n",
    "    return y.view_as(x)\n",
    "\n",
    "add_kernel(\"Triton6\", test_correctness(triton_softmax6))"
   ]
  },
  {
   "cell_type": "markdown",
   "metadata": {},
   "source": [
    "## Benchmark"
   ]
  },
  {
   "cell_type": "code",
   "execution_count": 24,
   "metadata": {},
   "outputs": [
    {
     "name": "stderr",
     "output_type": "stream",
     "text": [
      "/tmp/ipykernel_336630/266323888.py:17: UserWarning: Implicit dimension choice for softmax has been deprecated. Change the call to include dim=X as an argument.\n",
      "  ms, min_ms, max_ms = triton.testing.do_bench(lambda: kernels[provider](x), quantiles=quantiles)\n",
      "/tmp/ipykernel_336630/266323888.py:17: UserWarning: Implicit dimension choice for softmax has been deprecated. Change the call to include dim=X as an argument.\n",
      "  ms, min_ms, max_ms = triton.testing.do_bench(lambda: kernels[provider](x), quantiles=quantiles)\n",
      "/tmp/ipykernel_336630/266323888.py:17: UserWarning: Implicit dimension choice for softmax has been deprecated. Change the call to include dim=X as an argument.\n",
      "  ms, min_ms, max_ms = triton.testing.do_bench(lambda: kernels[provider](x), quantiles=quantiles)\n",
      "/tmp/ipykernel_336630/266323888.py:17: UserWarning: Implicit dimension choice for softmax has been deprecated. Change the call to include dim=X as an argument.\n",
      "  ms, min_ms, max_ms = triton.testing.do_bench(lambda: kernels[provider](x), quantiles=quantiles)\n",
      "/tmp/ipykernel_336630/266323888.py:17: UserWarning: Implicit dimension choice for softmax has been deprecated. Change the call to include dim=X as an argument.\n",
      "  ms, min_ms, max_ms = triton.testing.do_bench(lambda: kernels[provider](x), quantiles=quantiles)\n",
      "/tmp/ipykernel_336630/266323888.py:17: UserWarning: Implicit dimension choice for softmax has been deprecated. Change the call to include dim=X as an argument.\n",
      "  ms, min_ms, max_ms = triton.testing.do_bench(lambda: kernels[provider](x), quantiles=quantiles)\n",
      "/tmp/ipykernel_336630/266323888.py:17: UserWarning: Implicit dimension choice for softmax has been deprecated. Change the call to include dim=X as an argument.\n",
      "  ms, min_ms, max_ms = triton.testing.do_bench(lambda: kernels[provider](x), quantiles=quantiles)\n",
      "/tmp/ipykernel_336630/266323888.py:17: UserWarning: Implicit dimension choice for softmax has been deprecated. Change the call to include dim=X as an argument.\n",
      "  ms, min_ms, max_ms = triton.testing.do_bench(lambda: kernels[provider](x), quantiles=quantiles)\n"
     ]
    },
    {
     "data": {
      "image/png": "[encoded data removed]",
      "text/plain": [
       "<Figure size 640x480 with 1 Axes>"
      ]
     },
     "metadata": {},
     "output_type": "display_data"
    },
    {
     "name": "stdout",
     "output_type": "stream",
     "text": [
      "softmax-performance:\n",
      "       size      Torch       Naive  CompiledNaive     CUDA1      CUDA2  CUDA2_SHFL  CUDA3_SHFL      CUDA5    Triton1    Triton2    Triton3    Triton5   Triton6\n",
      "0    4096.0   4.591928    1.510325       4.302521  0.070022   3.806691    4.432900    4.571429   0.200548   5.044335   2.797814   3.413333   1.563359  0.077306\n",
      "1    8192.0   7.670412    2.748993       6.942373  0.070425   6.585209    7.501831    7.757576   0.400822   9.142857   5.375328   6.714754   3.098336  0.155890\n",
      "2   16384.0  12.011730    4.876191       9.917676  0.070598  10.583979   11.770115   12.263473   0.794568  15.058823   9.822542  13.385621   6.253435  0.311081\n",
      "3   32768.0  17.246315    7.869356      13.044586  0.070516  15.255121   16.416833   17.066667   1.540718  22.140541  16.960662  24.380953  12.641976  0.622918\n",
      "4   65536.0  21.113403   11.603399      13.585406  0.059575  15.984390   16.582997   17.617205   3.105972  26.298554  16.334996  31.937621  22.661135  1.253558\n",
      "5  131072.0  23.523331   31.890997      14.820443  0.055689  17.935414   18.285714   19.674572   6.171579   7.413574  16.812724  37.707711  31.356937  2.484495\n",
      "6  262144.0  25.660142   60.179980      15.518826  0.055700  19.332154   19.522193   21.059126  12.254300   7.177308  17.565264  41.636595  36.880135  5.009631\n",
      "7  524288.0  26.952910  116.715934      15.980493  0.055722  20.133947   20.236529   21.874499  24.027865   6.902886  17.945235  43.792850  40.230818  9.999390\n"
     ]
    }
   ],
   "source": [
    "@triton.testing.perf_report(\n",
    "    triton.testing.Benchmark(\n",
    "        x_names=['size'],  # Argument names to use as an x-axis for the plot.\n",
    "        x_vals=[2**i for i in range(12, 20, 1)],  # Different possible values for `x_name`.\n",
    "        x_log=True,  # x axis is logarithmic.\n",
    "        line_arg='provider',  # Argument name whose value corresponds to a different line in the plot.\n",
    "        line_vals=list(kernels.keys()),  # Possible values for `line_arg`.\n",
    "        line_names=list(kernels.keys()),  # Label name for the lines.\n",
    "        # styles=[('blue', '-'), ('green', '-'), ('red', '-'), ('pink', '-'), ('yellow', '-'), ('black', '-'), ('orange', '-'), ('purple', '-'), ('cyan', '-'), ('gray', '-'), ('gray', '--')],  # Line styles.\n",
    "        ylabel='GB/s',  # Label name for the y-axis.\n",
    "        plot_name='softmax-performance',  # Name for the plot. Used also as a file name for saving the plot.\n",
    "        args={},  # Values for function arguments not in `x_names` and `y_name`.\n",
    "    ))\n",
    "def triton_softmax_benchmark(size, provider):\n",
    "    x = torch.rand((1, size), device=\"cuda\", dtype=torch.float32)\n",
    "    quantiles = [0.5, 0.2, 0.8]\n",
    "    ms, min_ms, max_ms = triton.testing.do_bench(lambda: kernels[provider](x), quantiles=quantiles)\n",
    "    gbps = lambda ms: 2 * x.numel() * x.element_size() * 1e-9 / (ms * 1e-3)\n",
    "    return gbps(ms), gbps(max_ms), gbps(min_ms)\n",
    "\n",
    "triton_softmax_benchmark.run(print_data=True, show_plots=True)"
   ]
  },
  {
   "cell_type": "code",
   "execution_count": 25,
   "metadata": {},
   "outputs": [
    {
     "data": {
      "image/png": "[encoded data removed]",
      "text/plain": [
       "<Figure size 640x480 with 1 Axes>"
      ]
     },
     "metadata": {},
     "output_type": "display_data"
    },
    {
     "name": "stdout",
     "output_type": "stream",
     "text": [
      "softmax-performance:\n",
      "           size        CUDA5       Naive      Triton6\n",
      "0        4096.0     0.197512    1.475504     0.076834\n",
      "1        8192.0     0.397902    2.817056     0.155991\n",
      "2       16384.0     0.791804    4.970874     0.309155\n",
      "3       32768.0     1.545952    7.876923     0.620465\n",
      "4       65536.0     3.083177   11.619858     1.233689\n",
      "5      131072.0     6.142081   31.937621     2.464130\n",
      "6      262144.0    12.145293   60.179980     4.931041\n",
      "7      524288.0    24.241169  113.975650     9.902315\n",
      "8     1048576.0    47.819046  206.738172    19.832350\n",
      "9     2097152.0    92.556802  350.225787    39.598791\n",
      "10    4194304.0   176.483381  506.069512    78.982829\n",
      "11    8388608.0   299.400675  617.535922   157.491140\n",
      "12   16777216.0   451.412996  691.102996   299.283177\n",
      "13   33554432.0   624.547362  754.439090   526.856404\n",
      "14   67108864.0   786.813144  805.203325   831.625640\n",
      "15  134217728.0   906.852059  832.347682  1188.230153\n",
      "16  268435456.0   987.853818  850.286500  1513.830521\n",
      "17  536870912.0  1039.867148  859.934603  1762.636639\n"
     ]
    }
   ],
   "source": [
    "@triton.testing.perf_report(\n",
    "    triton.testing.Benchmark(\n",
    "        x_names=['size'],  # Argument names to use as an x-axis for the plot.\n",
    "        x_vals=[2**i for i in range(12, 30, 1)],  # Different possible values for `x_name`.\n",
    "        x_log=True,  # x axis is logarithmic.\n",
    "        line_arg='provider',  # Argument name whose value corresponds to a different line in the plot.\n",
    "        line_vals=[\"CUDA5\", \"Naive\", \"Triton6\"],  # Possible values for `line_arg`.\n",
    "        line_names=[\"CUDA5\", \"Naive\", \"Triton6\"],  # Label name for the lines.\n",
    "        # styles=[('blue', '-'), ('green', '-'), ('red', '-'), ('pink', '-'), ('yellow', '-'), ('black', '-'), ('orange', '-'), ('purple', '-'), ('cyan', '-'), ('gray', '-'), ('gray', '--')],  # Line styles.\n",
    "        ylabel='GB/s',  # Label name for the y-axis.\n",
    "        plot_name='softmax-performance',  # Name for the plot. Used also as a file name for saving the plot.\n",
    "        args={},  # Values for function arguments not in `x_names` and `y_name`.\n",
    "    ))\n",
    "def triton_softmax_benchmark(size, provider):\n",
    "    x = torch.rand((1, size), device=\"cuda\", dtype=torch.float32)\n",
    "    quantiles = [0.5, 0.2, 0.8]\n",
    "    ms, min_ms, max_ms = triton.testing.do_bench(lambda: kernels[provider](x), quantiles=quantiles)\n",
    "    gbps = lambda ms: 2 * x.numel() * x.element_size() * 1e-9 / (ms * 1e-3)\n",
    "    return gbps(ms), gbps(max_ms), gbps(min_ms)\n",
    "\n",
    "triton_softmax_benchmark.run(print_data=True, show_plots=True)"
   ]
  }
 ],
 "metadata": {
  "kernelspec": {
   "display_name": "Python 3 (ipykernel)",
   "language": "python",
   "name": "python3"
  },
  "language_info": {
   "codemirror_mode": {
    "name": "ipython",
    "version": 3
   },
   "file_extension": ".py",
   "mimetype": "text/x-python",
   "name": "python",
   "nbconvert_exporter": "python",
   "pygments_lexer": "ipython3",
   "version": "3.12.9"
  }
 },
 "nbformat": 4,
 "nbformat_minor": 2
}
