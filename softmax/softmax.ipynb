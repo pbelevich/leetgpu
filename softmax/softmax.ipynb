{
 "cells": [
  {
   "cell_type": "code",
   "execution_count": 1,
   "metadata": {},
   "outputs": [],
   "source": [
    "import torch\n",
    "import torch.utils.cpp_extension\n",
    "from pathlib import Path\n",
    "import random\n",
    "import triton\n",
    "import triton.language as tl"
   ]
  },
  {
   "cell_type": "code",
   "execution_count": 2,
   "metadata": {},
   "outputs": [],
   "source": [
    "torch.manual_seed(42)\n",
    "torch.cuda.manual_seed_all(42)"
   ]
  },
  {
   "cell_type": "code",
   "execution_count": 3,
   "metadata": {},
   "outputs": [],
   "source": [
    "def test_correctness(softmax_impl, repeats=100):\n",
    "    for i in range(repeats):\n",
    "        row = random.randint(1, 1024 * 32)\n",
    "        cols = random.randint(1, 1024 * 32)\n",
    "        a = torch.randn((row, cols), device=\"cuda\", dtype=torch.float32)\n",
    "        torch.testing.assert_close(softmax_impl(a), torch.nn.functional.softmax(a, dim=-1), msg=f\"row = {row}, cols = {cols}\")\n",
    "    return softmax_impl"
   ]
  },
  {
   "cell_type": "code",
   "execution_count": 4,
   "metadata": {},
   "outputs": [
    {
     "data": {
      "text/plain": [
       "<function __main__.<lambda>(a)>"
      ]
     },
     "execution_count": 4,
     "metadata": {},
     "output_type": "execute_result"
    }
   ],
   "source": [
    "test_correctness(lambda a: torch.nn.functional.softmax(a, dim=-1))"
   ]
  },
  {
   "cell_type": "code",
   "execution_count": 5,
   "metadata": {},
   "outputs": [],
   "source": [
    "def load_cuda_impl(file_name):\n",
    "    cuda_src = Path(file_name).read_text()\n",
    "    cpp_src = \"\"\"\n",
    "    torch::Tensor softmax(const torch::Tensor& x);\n",
    "    \"\"\"\n",
    "    my = torch.utils.cpp_extension.load_inline(\n",
    "        \"my\", cpp_src, cuda_src,\n",
    "        functions=['softmax'], extra_cuda_cflags=['--ptxas-options=-v'], verbose=True,\n",
    "    )\n",
    "    return my.softmax"
   ]
  },
  {
   "cell_type": "code",
   "execution_count": 6,
   "metadata": {},
   "outputs": [],
   "source": [
    "kernels = {}"
   ]
  },
  {
   "cell_type": "code",
   "execution_count": 7,
   "metadata": {},
   "outputs": [],
   "source": [
    "def add_kernel(name, kernel):\n",
    "    kernels[name] = kernel"
   ]
  },
  {
   "cell_type": "code",
   "execution_count": 8,
   "metadata": {},
   "outputs": [],
   "source": [
    "add_kernel(\"Torch\", torch.nn.functional.softmax)"
   ]
  },
  {
   "cell_type": "markdown",
   "metadata": {},
   "source": [
    "## Naive"
   ]
  },
  {
   "cell_type": "code",
   "execution_count": 9,
   "metadata": {},
   "outputs": [],
   "source": [
    "def naive_pytorch_softmax(x, dim=None):\n",
    "    m = torch.max(x, dim=dim, keepdim=True)[0]\n",
    "    e = torch.exp(x - m)\n",
    "    s = torch.sum(e, dim=dim, keepdim=True)\n",
    "    return e / s"
   ]
  },
  {
   "cell_type": "code",
   "execution_count": 10,
   "metadata": {},
   "outputs": [],
   "source": [
    "add_kernel(\"Naive\", test_correctness(lambda a: naive_pytorch_softmax(a, dim=-1)))"
   ]
  },
  {
   "cell_type": "code",
   "execution_count": 11,
   "metadata": {},
   "outputs": [],
   "source": [
    "@torch.compile\n",
    "def compiled_naive_pytorch_softmax(x, dim=None):\n",
    "    return naive_pytorch_softmax(x, dim=dim)"
   ]
  },
  {
   "cell_type": "code",
   "execution_count": 12,
   "metadata": {},
   "outputs": [],
   "source": [
    "add_kernel(\"CompiledNaive\", test_correctness(lambda a: compiled_naive_pytorch_softmax(a, dim=-1)))"
   ]
  },
  {
   "cell_type": "markdown",
   "metadata": {},
   "source": [
    "## CUDA"
   ]
  },
  {
   "cell_type": "code",
   "execution_count": 13,
   "metadata": {},
   "outputs": [
    {
     "name": "stderr",
     "output_type": "stream",
     "text": [
      "Using /home/belevich/.cache/torch_extensions/py312_cu126 as PyTorch extensions root...\n",
      "Detected CUDA files, patching ldflags\n",
      "Emitting ninja build file /home/belevich/.cache/torch_extensions/py312_cu126/my/build.ninja...\n",
      "/fsxl/belevich/miniconda3/lib/python3.12/site-packages/torch/utils/cpp_extension.py:2356: UserWarning: TORCH_CUDA_ARCH_LIST is not set, all archs for visible cards are included for compilation. \n",
      "If this is not desired, please set os.environ['TORCH_CUDA_ARCH_LIST'].\n",
      "  warnings.warn(\n",
      "Building extension module my...\n",
      "Allowing ninja to set a default number of workers... (overridable by setting the environment variable MAX_JOBS=N)\n"
     ]
    },
    {
     "name": "stdout",
     "output_type": "stream",
     "text": [
      "[1/3] c++ -MMD -MF main.o.d -DTORCH_EXTENSION_NAME=my -DTORCH_API_INCLUDE_EXTENSION_H -DPYBIND11_COMPILER_TYPE=\\\"_gcc\\\" -DPYBIND11_STDLIB=\\\"_libstdcpp\\\" -DPYBIND11_BUILD_ABI=\\\"_cxxabi1016\\\" -isystem /fsxl/belevich/miniconda3/lib/python3.12/site-packages/torch/include -isystem /fsxl/belevich/miniconda3/lib/python3.12/site-packages/torch/include/torch/csrc/api/include -isystem /usr/local/cuda/include -isystem /fsxl/belevich/miniconda3/include/python3.12 -D_GLIBCXX_USE_CXX11_ABI=1 -fPIC -std=c++17 -c /home/belevich/.cache/torch_extensions/py312_cu126/my/main.cpp -o main.o \n",
      "[2/3] /usr/local/cuda/bin/nvcc --generate-dependencies-with-compile --dependency-output cuda.cuda.o.d -DTORCH_EXTENSION_NAME=my -DTORCH_API_INCLUDE_EXTENSION_H -DPYBIND11_COMPILER_TYPE=\\\"_gcc\\\" -DPYBIND11_STDLIB=\\\"_libstdcpp\\\" -DPYBIND11_BUILD_ABI=\\\"_cxxabi1016\\\" -isystem /fsxl/belevich/miniconda3/lib/python3.12/site-packages/torch/include -isystem /fsxl/belevich/miniconda3/lib/python3.12/site-packages/torch/include/torch/csrc/api/include -isystem /usr/local/cuda/include -isystem /fsxl/belevich/miniconda3/include/python3.12 -D_GLIBCXX_USE_CXX11_ABI=1 -D__CUDA_NO_HALF_OPERATORS__ -D__CUDA_NO_HALF_CONVERSIONS__ -D__CUDA_NO_BFLOAT16_CONVERSIONS__ -D__CUDA_NO_HALF2_OPERATORS__ --expt-relaxed-constexpr -gencode=arch=compute_90,code=compute_90 -gencode=arch=compute_90,code=sm_90 --compiler-options '-fPIC' --ptxas-options=-v -std=c++17 -c /home/belevich/.cache/torch_extensions/py312_cu126/my/cuda.cu -o cuda.cuda.o \n",
      "ptxas info    : 11 bytes gmem\n",
      "ptxas info    : Compiling entry function '_Z14softmax_kernelPKfPfii' for 'sm_90'\n",
      "ptxas info    : Function properties for _Z14softmax_kernelPKfPfii\n",
      "    0 bytes stack frame, 0 bytes spill stores, 0 bytes spill loads\n",
      "ptxas info    : Used 31 registers, used 0 barriers\n",
      "ptxas info    : Compile time = 20.302 ms\n",
      "[3/3] c++ main.o cuda.cuda.o -shared -L/fsxl/belevich/miniconda3/lib/python3.12/site-packages/torch/lib -lc10 -lc10_cuda -ltorch_cpu -ltorch_cuda -ltorch -ltorch_python -L/usr/local/cuda/lib64 -lcudart -o my.so\n"
     ]
    },
    {
     "name": "stderr",
     "output_type": "stream",
     "text": [
      "Loading extension module my...\n"
     ]
    }
   ],
   "source": [
    "softmax1 = add_kernel(\"CUDA1\", test_correctness(load_cuda_impl(\"softmax1.cu\")))"
   ]
  },
  {
   "cell_type": "code",
   "execution_count": 14,
   "metadata": {},
   "outputs": [
    {
     "name": "stderr",
     "output_type": "stream",
     "text": [
      "Using /home/belevich/.cache/torch_extensions/py312_cu126 as PyTorch extensions root...\n",
      "The input conditions for extension module my have changed. Bumping to version 1 and re-building as my_v1...\n",
      "Detected CUDA files, patching ldflags\n",
      "Emitting ninja build file /home/belevich/.cache/torch_extensions/py312_cu126/my/build.ninja...\n",
      "/fsxl/belevich/miniconda3/lib/python3.12/site-packages/torch/utils/cpp_extension.py:2356: UserWarning: TORCH_CUDA_ARCH_LIST is not set, all archs for visible cards are included for compilation. \n",
      "If this is not desired, please set os.environ['TORCH_CUDA_ARCH_LIST'].\n",
      "  warnings.warn(\n",
      "Building extension module my_v1...\n",
      "Allowing ninja to set a default number of workers... (overridable by setting the environment variable MAX_JOBS=N)\n"
     ]
    },
    {
     "name": "stdout",
     "output_type": "stream",
     "text": [
      "[1/3] c++ -MMD -MF main.o.d -DTORCH_EXTENSION_NAME=my_v1 -DTORCH_API_INCLUDE_EXTENSION_H -DPYBIND11_COMPILER_TYPE=\\\"_gcc\\\" -DPYBIND11_STDLIB=\\\"_libstdcpp\\\" -DPYBIND11_BUILD_ABI=\\\"_cxxabi1016\\\" -isystem /fsxl/belevich/miniconda3/lib/python3.12/site-packages/torch/include -isystem /fsxl/belevich/miniconda3/lib/python3.12/site-packages/torch/include/torch/csrc/api/include -isystem /usr/local/cuda/include -isystem /fsxl/belevich/miniconda3/include/python3.12 -D_GLIBCXX_USE_CXX11_ABI=1 -fPIC -std=c++17 -c /home/belevich/.cache/torch_extensions/py312_cu126/my/main.cpp -o main.o \n",
      "[2/3] /usr/local/cuda/bin/nvcc --generate-dependencies-with-compile --dependency-output cuda.cuda.o.d -DTORCH_EXTENSION_NAME=my_v1 -DTORCH_API_INCLUDE_EXTENSION_H -DPYBIND11_COMPILER_TYPE=\\\"_gcc\\\" -DPYBIND11_STDLIB=\\\"_libstdcpp\\\" -DPYBIND11_BUILD_ABI=\\\"_cxxabi1016\\\" -isystem /fsxl/belevich/miniconda3/lib/python3.12/site-packages/torch/include -isystem /fsxl/belevich/miniconda3/lib/python3.12/site-packages/torch/include/torch/csrc/api/include -isystem /usr/local/cuda/include -isystem /fsxl/belevich/miniconda3/include/python3.12 -D_GLIBCXX_USE_CXX11_ABI=1 -D__CUDA_NO_HALF_OPERATORS__ -D__CUDA_NO_HALF_CONVERSIONS__ -D__CUDA_NO_BFLOAT16_CONVERSIONS__ -D__CUDA_NO_HALF2_OPERATORS__ --expt-relaxed-constexpr -gencode=arch=compute_90,code=compute_90 -gencode=arch=compute_90,code=sm_90 --compiler-options '-fPIC' --ptxas-options=-v -std=c++17 -c /home/belevich/.cache/torch_extensions/py312_cu126/my/cuda.cu -o cuda.cuda.o \n",
      "ptxas info    : 11 bytes gmem\n",
      "ptxas info    : Compiling entry function '_Z14softmax_kernelPKfPfii' for 'sm_90'\n",
      "ptxas info    : Function properties for _Z14softmax_kernelPKfPfii\n",
      "    0 bytes stack frame, 0 bytes spill stores, 0 bytes spill loads\n",
      "ptxas info    : Used 26 registers, used 1 barriers\n",
      "ptxas info    : Compile time = 20.871 ms\n",
      "[3/3] c++ main.o cuda.cuda.o -shared -L/fsxl/belevich/miniconda3/lib/python3.12/site-packages/torch/lib -lc10 -lc10_cuda -ltorch_cpu -ltorch_cuda -ltorch -ltorch_python -L/usr/local/cuda/lib64 -lcudart -o my_v1.so\n"
     ]
    },
    {
     "name": "stderr",
     "output_type": "stream",
     "text": [
      "Loading extension module my_v1...\n"
     ]
    }
   ],
   "source": [
    "softmax2 = add_kernel(\"CUDA2\", test_correctness(load_cuda_impl(\"softmax2.cu\")))"
   ]
  },
  {
   "cell_type": "code",
   "execution_count": 15,
   "metadata": {},
   "outputs": [
    {
     "name": "stderr",
     "output_type": "stream",
     "text": [
      "Using /home/belevich/.cache/torch_extensions/py312_cu126 as PyTorch extensions root...\n",
      "The input conditions for extension module my have changed. Bumping to version 2 and re-building as my_v2...\n",
      "Detected CUDA files, patching ldflags\n",
      "Emitting ninja build file /home/belevich/.cache/torch_extensions/py312_cu126/my/build.ninja...\n",
      "/fsxl/belevich/miniconda3/lib/python3.12/site-packages/torch/utils/cpp_extension.py:2356: UserWarning: TORCH_CUDA_ARCH_LIST is not set, all archs for visible cards are included for compilation. \n",
      "If this is not desired, please set os.environ['TORCH_CUDA_ARCH_LIST'].\n",
      "  warnings.warn(\n",
      "Building extension module my_v2...\n",
      "Allowing ninja to set a default number of workers... (overridable by setting the environment variable MAX_JOBS=N)\n"
     ]
    },
    {
     "name": "stdout",
     "output_type": "stream",
     "text": [
      "[1/3] c++ -MMD -MF main.o.d -DTORCH_EXTENSION_NAME=my_v2 -DTORCH_API_INCLUDE_EXTENSION_H -DPYBIND11_COMPILER_TYPE=\\\"_gcc\\\" -DPYBIND11_STDLIB=\\\"_libstdcpp\\\" -DPYBIND11_BUILD_ABI=\\\"_cxxabi1016\\\" -isystem /fsxl/belevich/miniconda3/lib/python3.12/site-packages/torch/include -isystem /fsxl/belevich/miniconda3/lib/python3.12/site-packages/torch/include/torch/csrc/api/include -isystem /usr/local/cuda/include -isystem /fsxl/belevich/miniconda3/include/python3.12 -D_GLIBCXX_USE_CXX11_ABI=1 -fPIC -std=c++17 -c /home/belevich/.cache/torch_extensions/py312_cu126/my/main.cpp -o main.o \n",
      "[2/3] /usr/local/cuda/bin/nvcc --generate-dependencies-with-compile --dependency-output cuda.cuda.o.d -DTORCH_EXTENSION_NAME=my_v2 -DTORCH_API_INCLUDE_EXTENSION_H -DPYBIND11_COMPILER_TYPE=\\\"_gcc\\\" -DPYBIND11_STDLIB=\\\"_libstdcpp\\\" -DPYBIND11_BUILD_ABI=\\\"_cxxabi1016\\\" -isystem /fsxl/belevich/miniconda3/lib/python3.12/site-packages/torch/include -isystem /fsxl/belevich/miniconda3/lib/python3.12/site-packages/torch/include/torch/csrc/api/include -isystem /usr/local/cuda/include -isystem /fsxl/belevich/miniconda3/include/python3.12 -D_GLIBCXX_USE_CXX11_ABI=1 -D__CUDA_NO_HALF_OPERATORS__ -D__CUDA_NO_HALF_CONVERSIONS__ -D__CUDA_NO_BFLOAT16_CONVERSIONS__ -D__CUDA_NO_HALF2_OPERATORS__ --expt-relaxed-constexpr -gencode=arch=compute_90,code=compute_90 -gencode=arch=compute_90,code=sm_90 --compiler-options '-fPIC' --ptxas-options=-v -std=c++17 -c /home/belevich/.cache/torch_extensions/py312_cu126/my/cuda.cu -o cuda.cuda.o \n",
      "ptxas info    : 11 bytes gmem\n",
      "ptxas info    : Compiling entry function '_Z19softmax_shfl_kernelPKfPfii' for 'sm_90'\n",
      "ptxas info    : Function properties for _Z19softmax_shfl_kernelPKfPfii\n",
      "    0 bytes stack frame, 0 bytes spill stores, 0 bytes spill loads\n",
      "ptxas info    : Used 26 registers, used 1 barriers\n",
      "ptxas info    : Compile time = 24.036 ms\n",
      "[3/3] c++ main.o cuda.cuda.o -shared -L/fsxl/belevich/miniconda3/lib/python3.12/site-packages/torch/lib -lc10 -lc10_cuda -ltorch_cpu -ltorch_cuda -ltorch -ltorch_python -L/usr/local/cuda/lib64 -lcudart -o my_v2.so\n"
     ]
    },
    {
     "name": "stderr",
     "output_type": "stream",
     "text": [
      "Loading extension module my_v2...\n"
     ]
    }
   ],
   "source": [
    "softmax2_shfl = add_kernel(\"CUDA2_SHFL\", test_correctness(load_cuda_impl(\"softmax2_shfl.cu\")))"
   ]
  },
  {
   "cell_type": "code",
   "execution_count": 16,
   "metadata": {},
   "outputs": [],
   "source": [
    "# softmax3 = add_kernel(\"CUDA3\", test_correctness(load_cuda_impl(\"softmax3.cu\")))"
   ]
  },
  {
   "cell_type": "code",
   "execution_count": 17,
   "metadata": {},
   "outputs": [
    {
     "name": "stderr",
     "output_type": "stream",
     "text": [
      "Using /home/belevich/.cache/torch_extensions/py312_cu126 as PyTorch extensions root...\n",
      "The input conditions for extension module my have changed. Bumping to version 3 and re-building as my_v3...\n",
      "Detected CUDA files, patching ldflags\n",
      "Emitting ninja build file /home/belevich/.cache/torch_extensions/py312_cu126/my/build.ninja...\n",
      "/fsxl/belevich/miniconda3/lib/python3.12/site-packages/torch/utils/cpp_extension.py:2356: UserWarning: TORCH_CUDA_ARCH_LIST is not set, all archs for visible cards are included for compilation. \n",
      "If this is not desired, please set os.environ['TORCH_CUDA_ARCH_LIST'].\n",
      "  warnings.warn(\n",
      "Building extension module my_v3...\n",
      "Allowing ninja to set a default number of workers... (overridable by setting the environment variable MAX_JOBS=N)\n"
     ]
    },
    {
     "name": "stdout",
     "output_type": "stream",
     "text": [
      "[1/3] c++ -MMD -MF main.o.d -DTORCH_EXTENSION_NAME=my_v3 -DTORCH_API_INCLUDE_EXTENSION_H -DPYBIND11_COMPILER_TYPE=\\\"_gcc\\\" -DPYBIND11_STDLIB=\\\"_libstdcpp\\\" -DPYBIND11_BUILD_ABI=\\\"_cxxabi1016\\\" -isystem /fsxl/belevich/miniconda3/lib/python3.12/site-packages/torch/include -isystem /fsxl/belevich/miniconda3/lib/python3.12/site-packages/torch/include/torch/csrc/api/include -isystem /usr/local/cuda/include -isystem /fsxl/belevich/miniconda3/include/python3.12 -D_GLIBCXX_USE_CXX11_ABI=1 -fPIC -std=c++17 -c /home/belevich/.cache/torch_extensions/py312_cu126/my/main.cpp -o main.o \n",
      "[2/3] /usr/local/cuda/bin/nvcc --generate-dependencies-with-compile --dependency-output cuda.cuda.o.d -DTORCH_EXTENSION_NAME=my_v3 -DTORCH_API_INCLUDE_EXTENSION_H -DPYBIND11_COMPILER_TYPE=\\\"_gcc\\\" -DPYBIND11_STDLIB=\\\"_libstdcpp\\\" -DPYBIND11_BUILD_ABI=\\\"_cxxabi1016\\\" -isystem /fsxl/belevich/miniconda3/lib/python3.12/site-packages/torch/include -isystem /fsxl/belevich/miniconda3/lib/python3.12/site-packages/torch/include/torch/csrc/api/include -isystem /usr/local/cuda/include -isystem /fsxl/belevich/miniconda3/include/python3.12 -D_GLIBCXX_USE_CXX11_ABI=1 -D__CUDA_NO_HALF_OPERATORS__ -D__CUDA_NO_HALF_CONVERSIONS__ -D__CUDA_NO_BFLOAT16_CONVERSIONS__ -D__CUDA_NO_HALF2_OPERATORS__ --expt-relaxed-constexpr -gencode=arch=compute_90,code=compute_90 -gencode=arch=compute_90,code=sm_90 --compiler-options '-fPIC' --ptxas-options=-v -std=c++17 -c /home/belevich/.cache/torch_extensions/py312_cu126/my/cuda.cu -o cuda.cuda.o \n",
      "ptxas info    : 11 bytes gmem\n",
      "ptxas info    : Compiling entry function '_Z19softmax_shfl_kernelPKfPfii' for 'sm_90'\n",
      "ptxas info    : Function properties for _Z19softmax_shfl_kernelPKfPfii\n",
      "    0 bytes stack frame, 0 bytes spill stores, 0 bytes spill loads\n",
      "ptxas info    : Used 26 registers, used 1 barriers\n",
      "ptxas info    : Compile time = 24.077 ms\n",
      "[3/3] c++ main.o cuda.cuda.o -shared -L/fsxl/belevich/miniconda3/lib/python3.12/site-packages/torch/lib -lc10 -lc10_cuda -ltorch_cpu -ltorch_cuda -ltorch -ltorch_python -L/usr/local/cuda/lib64 -lcudart -o my_v3.so\n"
     ]
    },
    {
     "name": "stderr",
     "output_type": "stream",
     "text": [
      "Loading extension module my_v3...\n"
     ]
    }
   ],
   "source": [
    "softmax3_shfl = add_kernel(\"CUDA3_SHFL\", test_correctness(load_cuda_impl(\"softmax3_shfl.cu\")))"
   ]
  },
  {
   "cell_type": "code",
   "execution_count": 18,
   "metadata": {},
   "outputs": [
    {
     "name": "stderr",
     "output_type": "stream",
     "text": [
      "Using /home/belevich/.cache/torch_extensions/py312_cu126 as PyTorch extensions root...\n",
      "The input conditions for extension module my have changed. Bumping to version 4 and re-building as my_v4...\n",
      "Detected CUDA files, patching ldflags\n",
      "Emitting ninja build file /home/belevich/.cache/torch_extensions/py312_cu126/my/build.ninja...\n",
      "/fsxl/belevich/miniconda3/lib/python3.12/site-packages/torch/utils/cpp_extension.py:2356: UserWarning: TORCH_CUDA_ARCH_LIST is not set, all archs for visible cards are included for compilation. \n",
      "If this is not desired, please set os.environ['TORCH_CUDA_ARCH_LIST'].\n",
      "  warnings.warn(\n",
      "Building extension module my_v4...\n",
      "Allowing ninja to set a default number of workers... (overridable by setting the environment variable MAX_JOBS=N)\n"
     ]
    },
    {
     "name": "stdout",
     "output_type": "stream",
     "text": [
      "[1/3] c++ -MMD -MF main.o.d -DTORCH_EXTENSION_NAME=my_v4 -DTORCH_API_INCLUDE_EXTENSION_H -DPYBIND11_COMPILER_TYPE=\\\"_gcc\\\" -DPYBIND11_STDLIB=\\\"_libstdcpp\\\" -DPYBIND11_BUILD_ABI=\\\"_cxxabi1016\\\" -isystem /fsxl/belevich/miniconda3/lib/python3.12/site-packages/torch/include -isystem /fsxl/belevich/miniconda3/lib/python3.12/site-packages/torch/include/torch/csrc/api/include -isystem /usr/local/cuda/include -isystem /fsxl/belevich/miniconda3/include/python3.12 -D_GLIBCXX_USE_CXX11_ABI=1 -fPIC -std=c++17 -c /home/belevich/.cache/torch_extensions/py312_cu126/my/main.cpp -o main.o \n",
      "[2/3] /usr/local/cuda/bin/nvcc --generate-dependencies-with-compile --dependency-output cuda.cuda.o.d -DTORCH_EXTENSION_NAME=my_v4 -DTORCH_API_INCLUDE_EXTENSION_H -DPYBIND11_COMPILER_TYPE=\\\"_gcc\\\" -DPYBIND11_STDLIB=\\\"_libstdcpp\\\" -DPYBIND11_BUILD_ABI=\\\"_cxxabi1016\\\" -isystem /fsxl/belevich/miniconda3/lib/python3.12/site-packages/torch/include -isystem /fsxl/belevich/miniconda3/lib/python3.12/site-packages/torch/include/torch/csrc/api/include -isystem /usr/local/cuda/include -isystem /fsxl/belevich/miniconda3/include/python3.12 -D_GLIBCXX_USE_CXX11_ABI=1 -D__CUDA_NO_HALF_OPERATORS__ -D__CUDA_NO_HALF_CONVERSIONS__ -D__CUDA_NO_BFLOAT16_CONVERSIONS__ -D__CUDA_NO_HALF2_OPERATORS__ --expt-relaxed-constexpr -gencode=arch=compute_90,code=compute_90 -gencode=arch=compute_90,code=sm_90 --compiler-options '-fPIC' --ptxas-options=-v -std=c++17 -c /home/belevich/.cache/torch_extensions/py312_cu126/my/cuda.cu -o cuda.cuda.o \n",
      "ptxas info    : 11 bytes gmem\n",
      "ptxas info    : Compiling entry function '_Z15softmax_kernel5PfiiPKf' for 'sm_90'\n",
      "ptxas info    : Function properties for _Z15softmax_kernel5PfiiPKf\n",
      "    0 bytes stack frame, 0 bytes spill stores, 0 bytes spill loads\n",
      "ptxas info    : Used 16 registers, used 0 barriers\n",
      "ptxas info    : Compile time = 7.315 ms\n",
      "ptxas info    : Compiling entry function '_Z10sum_kernelPKfPfiiiS0_S1_' for 'sm_90'\n",
      "ptxas info    : Function properties for _Z10sum_kernelPKfPfiiiS0_S1_\n",
      "    0 bytes stack frame, 0 bytes spill stores, 0 bytes spill loads\n",
      "ptxas info    : Used 31 registers, used 1 barriers\n",
      "ptxas info    : Compile time = 8.181 ms\n",
      "ptxas info    : Compiling entry function '_Z10max_kernelPKfiiiPf' for 'sm_90'\n",
      "ptxas info    : Function properties for _Z10max_kernelPKfiiiPf\n",
      "    0 bytes stack frame, 0 bytes spill stores, 0 bytes spill loads\n",
      "ptxas info    : Used 27 registers, used 1 barriers\n",
      "ptxas info    : Compile time = 5.704 ms\n",
      "[3/3] c++ main.o cuda.cuda.o -shared -L/fsxl/belevich/miniconda3/lib/python3.12/site-packages/torch/lib -lc10 -lc10_cuda -ltorch_cpu -ltorch_cuda -ltorch -ltorch_python -L/usr/local/cuda/lib64 -lcudart -o my_v4.so\n"
     ]
    },
    {
     "name": "stderr",
     "output_type": "stream",
     "text": [
      "Loading extension module my_v4...\n"
     ]
    }
   ],
   "source": [
    "softmax5 = add_kernel(\"CUDA5\", test_correctness(load_cuda_impl(\"softmax5.cu\")))"
   ]
  },
  {
   "cell_type": "markdown",
   "metadata": {},
   "source": [
    "## Triton"
   ]
  },
  {
   "cell_type": "code",
   "execution_count": 19,
   "metadata": {},
   "outputs": [],
   "source": [
    "@triton.jit\n",
    "def triton_softmax1_kernel(\n",
    "    x,\n",
    "    x_row_stride,\n",
    "    y,\n",
    "    y_row_stride,\n",
    "    n_cols,\n",
    "    block_size: tl.constexpr,\n",
    "):\n",
    "    row_idx = tl.program_id(0)\n",
    "    x_row_start = x + row_idx * x_row_stride\n",
    "    col_offsets = tl.arange(0, block_size)\n",
    "    row_ptrs = x_row_start + col_offsets\n",
    "    mask = col_offsets < n_cols\n",
    "    row = tl.load(row_ptrs, mask=mask, other=float('-inf'))\n",
    "\n",
    "    row_max = tl.max(row, axis=0)\n",
    "    safe_row = row - row_max\n",
    "    exp_row = tl.exp(safe_row)\n",
    "    sum_row = tl.sum(exp_row, axis=0)\n",
    "    y_row_start = y + row_idx * y_row_stride\n",
    "    y_ptrs = y_row_start + col_offsets\n",
    "    tl.store(y_ptrs, exp_row / sum_row, mask=mask)\n",
    "\n",
    "def triton_softmax1(x: torch.Tensor) -> torch.Tensor:\n",
    "    x_flatten = x.reshape(-1, x.size(-1))\n",
    "    y = torch.empty_like(x_flatten)\n",
    "    rows, cols = x_flatten.shape\n",
    "    block_size = triton.next_power_of_2(cols)\n",
    "    num_warps = 4\n",
    "    if block_size > 2047:\n",
    "        num_warps = 8\n",
    "    elif block_size > 4095:\n",
    "        num_warps = 16\n",
    "\n",
    "    grid = (rows, )\n",
    "    triton_softmax1_kernel[grid](x_flatten, x_flatten.stride(0), y, y.stride(0), cols, block_size, num_warps=num_warps)\n",
    "    \n",
    "    return y.view_as(x)\n",
    "\n",
    "add_kernel(\"Triton1\", test_correctness(triton_softmax1))"
   ]
  },
  {
   "cell_type": "code",
   "execution_count": 20,
   "metadata": {},
   "outputs": [],
   "source": [
    "@triton.jit\n",
    "def triton_softmax2_kernel(\n",
    "    x,\n",
    "    x_row_stride,\n",
    "    y,\n",
    "    y_row_stride,\n",
    "    n_cols,\n",
    "    block_size: tl.constexpr,\n",
    "):\n",
    "    row_idx = tl.program_id(0)\n",
    "    x_row_start = x + row_idx * x_row_stride\n",
    "    y_row_start = y + row_idx * y_row_stride\n",
    "    offsets = tl.arange(0, block_size)\n",
    "    row_max = tl.full((), -float(\"inf\"), dtype=tl.float32)\n",
    "    for b in range(0, (n_cols + block_size - 1) // block_size):\n",
    "        idx = b * block_size + offsets\n",
    "        mask = idx < n_cols\n",
    "        x_vals = tl.load(x_row_start + idx, mask=mask)\n",
    "        row_max = tl.maximum(row_max, tl.max(x_vals.to(tl.float32)))\n",
    "\n",
    "    row_sum = tl.zeros((), dtype=tl.float32)\n",
    "    for b in range(0, (n_cols + block_size - 1) // block_size):\n",
    "        idx = b * block_size + offsets\n",
    "        mask = idx < n_cols\n",
    "        x_vals = tl.load(x_row_start + idx, mask=mask, other=-float(\"inf\"))\n",
    "        x_vals = tl.exp(x_vals - row_max)\n",
    "        row_sum += tl.sum(x_vals)\n",
    "        tl.store(y_row_start + idx, x_vals, mask=mask)\n",
    "\n",
    "    for b in range(0, (n_cols + block_size - 1) // block_size):\n",
    "        idx = b * block_size + offsets\n",
    "        mask = idx < n_cols\n",
    "        y_vals = tl.load(y_row_start + idx, mask=mask)\n",
    "        y_vals /= row_sum\n",
    "        tl.store(y_row_start + idx, y_vals, mask=mask)\n",
    "    \n",
    "\n",
    "def triton_softmax2(x: torch.Tensor) -> torch.Tensor:\n",
    "    x_flatten = x.reshape(-1, x.size(-1))\n",
    "    y = torch.empty_like(x_flatten)\n",
    "    rows, cols = x_flatten.shape\n",
    "    block_size = 1024 * 32\n",
    "    num_warps = 4\n",
    "    if block_size > 2047:\n",
    "        num_warps = 8\n",
    "    elif block_size > 4095:\n",
    "        num_warps = 16\n",
    "    grid = (rows,)\n",
    "    triton_softmax2_kernel[grid](x_flatten, x_flatten.stride(0), y, y.stride(0), cols, block_size, num_warps=num_warps)\n",
    "    return y.view_as(x)\n",
    "\n",
    "add_kernel(\"Triton2\", test_correctness(triton_softmax2))"
   ]
  },
  {
   "cell_type": "code",
   "execution_count": 21,
   "metadata": {},
   "outputs": [],
   "source": [
    "@triton.jit\n",
    "def triton_softmax3_kernel(\n",
    "    x,\n",
    "    x_row_stride,\n",
    "    y,\n",
    "    y_row_stride,\n",
    "    n_cols,\n",
    "    block_size: tl.constexpr,\n",
    "):\n",
    "    row_idx = tl.program_id(0)\n",
    "    x_row_start = x + row_idx * x_row_stride\n",
    "    y_row_start = y + row_idx * y_row_stride\n",
    "    current_max = float('-inf')\n",
    "    current_sum = 0.0\n",
    "    \n",
    "    for block_offset in tl.range(0, n_cols, block_size):\n",
    "        col_offsets = block_offset + tl.arange(0, block_size)\n",
    "        block = tl.load(x_row_start + col_offsets, mask=col_offsets < n_cols, other=float('-inf'))\n",
    "        new_max = tl.maximum(current_max, tl.max(block))\n",
    "        current_sum *= tl.exp(current_max - new_max)\n",
    "        current_sum += tl.sum(tl.exp(block - new_max))\n",
    "        current_max = new_max\n",
    "\n",
    "    for block_offset in tl.range(0, n_cols, block_size):\n",
    "        col_offsets = block_offset + tl.arange(0, block_size)\n",
    "        block = tl.load(x_row_start + col_offsets, mask=col_offsets < n_cols, other=float('-inf'))\n",
    "        tl.store(y_row_start + col_offsets, tl.exp(block - current_max) / current_sum, mask=col_offsets < n_cols)\n",
    "\n",
    "\n",
    "def triton_softmax3(x: torch.Tensor) -> torch.Tensor:\n",
    "    x_flatten = x.reshape(-1, x.size(-1))\n",
    "    y = torch.empty_like(x_flatten)\n",
    "    rows, cols = x_flatten.shape\n",
    "    block_size = 32 * 1024\n",
    "    num_warps = 32\n",
    "    grid = (rows, )\n",
    "    triton_softmax3_kernel[grid](x_flatten, x_flatten.stride(0), y, y.stride(0), cols, block_size, num_warps=num_warps)\n",
    "    return y.view_as(x)\n",
    "\n",
    "add_kernel(\"Triton3\", test_correctness(triton_softmax3))"
   ]
  },
  {
   "cell_type": "markdown",
   "metadata": {},
   "source": [
    "## Benchmark"
   ]
  },
  {
   "cell_type": "code",
   "execution_count": 22,
   "metadata": {},
   "outputs": [],
   "source": [
    "@triton.testing.perf_report(\n",
    "    triton.testing.Benchmark(\n",
    "        x_names=['size'],  # Argument names to use as an x-axis for the plot.\n",
    "        x_vals=[2**i for i in range(12, 20, 1)],  # Different possible values for `x_name`.\n",
    "        x_log=True,  # x axis is logarithmic.\n",
    "        line_arg='provider',  # Argument name whose value corresponds to a different line in the plot.\n",
    "        line_vals=list(kernels.keys()),  # Possible values for `line_arg`.\n",
    "        line_names=list(kernels.keys()),  # Label name for the lines.\n",
    "        # styles=[('blue', '-'), ('green', '-'), ('red', '-'), ('pink', '-'), ('yellow', '-'), ('black', '-'), ('orange', '-'), ('purple', '-'), ('cyan', '-'), ('gray', '-'), ('gray', '--')],  # Line styles.\n",
    "        ylabel='GB/s',  # Label name for the y-axis.\n",
    "        plot_name='softmax-performance',  # Name for the plot. Used also as a file name for saving the plot.\n",
    "        args={},  # Values for function arguments not in `x_names` and `y_name`.\n",
    "    ))\n",
    "def triton_softmax_benchmark(size, provider):\n",
    "    x = torch.rand((1, size), device=\"cuda\", dtype=torch.float32)\n",
    "    quantiles = [0.5, 0.2, 0.8]\n",
    "    ms, min_ms, max_ms = triton.testing.do_bench(lambda: kernels[provider](x), quantiles=quantiles)\n",
    "    gbps = lambda ms: 2 * x.numel() * x.element_size() * 1e-9 / (ms * 1e-3)\n",
    "    return gbps(ms), gbps(max_ms), gbps(min_ms)"
   ]
  },
  {
   "cell_type": "code",
   "execution_count": 23,
   "metadata": {},
   "outputs": [
    {
     "name": "stderr",
     "output_type": "stream",
     "text": [
      "/tmp/ipykernel_288433/1914060744.py:17: UserWarning: Implicit dimension choice for softmax has been deprecated. Change the call to include dim=X as an argument.\n",
      "  ms, min_ms, max_ms = triton.testing.do_bench(lambda: kernels[provider](x), quantiles=quantiles)\n",
      "/tmp/ipykernel_288433/1914060744.py:17: UserWarning: Implicit dimension choice for softmax has been deprecated. Change the call to include dim=X as an argument.\n",
      "  ms, min_ms, max_ms = triton.testing.do_bench(lambda: kernels[provider](x), quantiles=quantiles)\n",
      "/tmp/ipykernel_288433/1914060744.py:17: UserWarning: Implicit dimension choice for softmax has been deprecated. Change the call to include dim=X as an argument.\n",
      "  ms, min_ms, max_ms = triton.testing.do_bench(lambda: kernels[provider](x), quantiles=quantiles)\n",
      "/tmp/ipykernel_288433/1914060744.py:17: UserWarning: Implicit dimension choice for softmax has been deprecated. Change the call to include dim=X as an argument.\n",
      "  ms, min_ms, max_ms = triton.testing.do_bench(lambda: kernels[provider](x), quantiles=quantiles)\n",
      "/tmp/ipykernel_288433/1914060744.py:17: UserWarning: Implicit dimension choice for softmax has been deprecated. Change the call to include dim=X as an argument.\n",
      "  ms, min_ms, max_ms = triton.testing.do_bench(lambda: kernels[provider](x), quantiles=quantiles)\n",
      "/tmp/ipykernel_288433/1914060744.py:17: UserWarning: Implicit dimension choice for softmax has been deprecated. Change the call to include dim=X as an argument.\n",
      "  ms, min_ms, max_ms = triton.testing.do_bench(lambda: kernels[provider](x), quantiles=quantiles)\n",
      "/tmp/ipykernel_288433/1914060744.py:17: UserWarning: Implicit dimension choice for softmax has been deprecated. Change the call to include dim=X as an argument.\n",
      "  ms, min_ms, max_ms = triton.testing.do_bench(lambda: kernels[provider](x), quantiles=quantiles)\n",
      "/tmp/ipykernel_288433/1914060744.py:17: UserWarning: Implicit dimension choice for softmax has been deprecated. Change the call to include dim=X as an argument.\n",
      "  ms, min_ms, max_ms = triton.testing.do_bench(lambda: kernels[provider](x), quantiles=quantiles)\n"
     ]
    },
    {
     "data": {
      "image/png": "[encoded data removed]",
      "text/plain": [
       "<Figure size 640x480 with 1 Axes>"
      ]
     },
     "metadata": {},
     "output_type": "display_data"
    },
    {
     "name": "stdout",
     "output_type": "stream",
     "text": [
      "softmax-performance:\n",
      "       size      Torch       Naive  CompiledNaive     CUDA1      CUDA2  CUDA2_SHFL  CUDA3_SHFL      CUDA5    Triton1    Triton2    Triton3\n",
      "0    4096.0   4.612613    1.530643       4.357447  0.069960   3.806691    4.376068    4.491228   0.204004   5.044335   2.797814   3.379538\n",
      "1    8192.0   7.641791    2.752688       6.849498  0.070428   6.585209    7.557196    7.728302   0.404383   9.102222   5.403694   6.714754\n",
      "2   16384.0  12.082596    4.882002       9.822542  0.070678  10.666666   11.804035   12.190476   0.797896  15.226765   9.752381  13.255664\n",
      "3   32768.0  17.246315    8.031373      13.023847  0.070709  15.283582   16.351298   16.718367   1.573267  22.080862  16.925620  24.236685\n",
      "4   65536.0  21.059126   11.644634      13.473685  0.059849  16.078509   16.650406   17.522994   3.129106  26.383252  16.141871  31.937621\n",
      "5  131072.0  23.472779   31.177927      14.787003  0.055697  17.984632   18.285714   19.692308   6.246878   7.442198  16.778290  37.664368\n",
      "6  262144.0  25.640064   60.907061      15.533538  0.055698  19.292317   19.498959   21.079447  12.461684   7.212061  17.522994  41.504749\n",
      "7  524288.0  26.991762  116.508449      15.996094  0.055690  20.155621   20.264688   21.889112  24.725900   6.904341  17.967375  43.983891\n"
     ]
    }
   ],
   "source": [
    "triton_softmax_benchmark.run(print_data=True, show_plots=True)"
   ]
  },
  {
   "cell_type": "code",
   "execution_count": 24,
   "metadata": {},
   "outputs": [],
   "source": [
    "@triton.testing.perf_report(\n",
    "    triton.testing.Benchmark(\n",
    "        x_names=['size'],  # Argument names to use as an x-axis for the plot.\n",
    "        x_vals=[2**i for i in range(12, 30, 1)],  # Different possible values for `x_name`.\n",
    "        x_log=True,  # x axis is logarithmic.\n",
    "        line_arg='provider',  # Argument name whose value corresponds to a different line in the plot.\n",
    "        line_vals=[\"CUDA5\", \"Naive\"],  # Possible values for `line_arg`.\n",
    "        line_names=[\"CUDA5\", \"Naive\"],  # Label name for the lines.\n",
    "        # styles=[('blue', '-'), ('green', '-'), ('red', '-'), ('pink', '-'), ('yellow', '-'), ('black', '-'), ('orange', '-'), ('purple', '-'), ('cyan', '-'), ('gray', '-'), ('gray', '--')],  # Line styles.\n",
    "        ylabel='GB/s',  # Label name for the y-axis.\n",
    "        plot_name='softmax-performance',  # Name for the plot. Used also as a file name for saving the plot.\n",
    "        args={},  # Values for function arguments not in `x_names` and `y_name`.\n",
    "    ))\n",
    "def triton_softmax_benchmark(size, provider):\n",
    "    x = torch.rand((1, size), device=\"cuda\", dtype=torch.float32)\n",
    "    quantiles = [0.5, 0.2, 0.8]\n",
    "    ms, min_ms, max_ms = triton.testing.do_bench(lambda: kernels[provider](x), quantiles=quantiles)\n",
    "    gbps = lambda ms: 2 * x.numel() * x.element_size() * 1e-9 / (ms * 1e-3)\n",
    "    return gbps(ms), gbps(max_ms), gbps(min_ms)"
   ]
  },
  {
   "cell_type": "code",
   "execution_count": 25,
   "metadata": {},
   "outputs": [
    {
     "data": {
      "image/png": "[encoded data removed]",
      "text/plain": [
       "<Figure size 640x480 with 1 Axes>"
      ]
     },
     "metadata": {},
     "output_type": "display_data"
    },
    {
     "name": "stdout",
     "output_type": "stream",
     "text": [
      "softmax-performance:\n",
      "           size        CUDA5       Naive\n",
      "0        4096.0     0.201734    1.490539\n",
      "1        8192.0     0.403706    2.756393\n",
      "2       16384.0     0.798518    4.976914\n",
      "3       32768.0     1.563657    8.019579\n",
      "4       65536.0     3.114533   11.652916\n",
      "5      131072.0     6.209000   31.844508\n",
      "6      262144.0    12.461684   62.713873\n",
      "7      524288.0    24.632965  116.508449\n",
      "8     1048576.0    48.464411  208.050786\n",
      "9     2097152.0    94.653908  346.293262\n",
      "10    4194304.0   179.858657  500.991853\n",
      "11    8388608.0   304.221659  617.717819\n",
      "12   16777216.0   456.349042  685.231846\n",
      "13   33554432.0   623.781085  753.219699\n",
      "14   67108864.0   788.755146  807.470380\n",
      "15  134217728.0   908.497115  832.750497\n",
      "16  268435456.0   989.945005  850.248816\n",
      "17  536870912.0  1039.504720  860.502450\n"
     ]
    }
   ],
   "source": [
    "triton_softmax_benchmark.run(print_data=True, show_plots=True)"
   ]
  },
  {
   "cell_type": "code",
   "execution_count": null,
   "metadata": {},
   "outputs": [],
   "source": []
  }
 ],
 "metadata": {
  "kernelspec": {
   "display_name": "Python 3 (ipykernel)",
   "language": "python",
   "name": "python3"
  },
  "language_info": {
   "codemirror_mode": {
    "name": "ipython",
    "version": 3
   },
   "file_extension": ".py",
   "mimetype": "text/x-python",
   "name": "python",
   "nbconvert_exporter": "python",
   "pygments_lexer": "ipython3",
   "version": "3.12.9"
  }
 },
 "nbformat": 4,
 "nbformat_minor": 2
}
